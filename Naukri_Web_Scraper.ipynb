{
 "cells": [
  {
   "cell_type": "markdown",
   "metadata": {},
   "source": [
    "### Naukri Web Scraper"
   ]
  },
  {
   "cell_type": "markdown",
   "metadata": {},
   "source": [
    "Ajay Kasturirangan\n",
    "02-July-2022"
   ]
  },
  {
   "cell_type": "markdown",
   "metadata": {},
   "source": [
    "#### Import Required Libraries"
   ]
  },
  {
   "cell_type": "code",
   "execution_count": 1,
   "metadata": {
    "id": "alGz9916i-0P"
   },
   "outputs": [],
   "source": [
    "import requests\n",
    "from selenium import webdriver\n",
    "from bs4 import BeautifulSoup\n",
    "import time\n",
    "import pandas as pd\n",
    "import math"
   ]
  },
  {
   "cell_type": "markdown",
   "metadata": {
    "id": "gyQZgS1_ACp0"
   },
   "source": [
    "#### Input"
   ]
  },
  {
   "cell_type": "code",
   "execution_count": 2,
   "metadata": {
    "id": "YU7H5nWQkMT6"
   },
   "outputs": [],
   "source": [
    "Job = \"Data Analyst\"\n",
    "Location = \"Chennai\""
   ]
  },
  {
   "cell_type": "markdown",
   "metadata": {
    "id": "wGEuajG1AruD"
   },
   "source": [
    "#### Identify Data Source"
   ]
  },
  {
   "cell_type": "code",
   "execution_count": 3,
   "metadata": {
    "colab": {
     "base_uri": "https://localhost:8080/",
     "height": 35
    },
    "id": "Fk6K3M3IATLa",
    "outputId": "f38f2b19-5b1f-42df-a5fa-0d4041c1cd1e"
   },
   "outputs": [
    {
     "data": {
      "text/plain": [
       "'https://www.naukri.com/Data-Analyst-jobs-in-Chennai'"
      ]
     },
     "execution_count": 3,
     "metadata": {},
     "output_type": "execute_result"
    }
   ],
   "source": [
    "#url = 'https://www.naukri.com/' + Job.replace(\" \",\"-\") + '-jobs-in-' + Location + '?k=' + Job.replace(\" \",\"%20\") + '&l=bangalore'\n",
    "#url\n",
    "url = 'https://www.naukri.com/'+ Job.replace(\" \",\"-\") + '-jobs-in-' + Location\n",
    "url"
   ]
  },
  {
   "cell_type": "markdown",
   "metadata": {
    "id": "yxD4gGM-BPlk"
   },
   "source": [
    "#### Importing Data"
   ]
  },
  {
   "cell_type": "code",
   "execution_count": 4,
   "metadata": {
    "colab": {
     "base_uri": "https://localhost:8080/",
     "height": 505
    },
    "id": "3gvLNqfPBS9u",
    "outputId": "94b51fd4-ae59-4552-c5f3-996f18a1963d"
   },
   "outputs": [],
   "source": [
    "def import_data(url):\n",
    "    page = requests.get(url)\n",
    "    driver = webdriver.Chrome('E:\\\\chromedriver_win32 (1)\\\\chromedriver.exe')\n",
    "    driver.get(url)\n",
    "    time.sleep(3)\n",
    "    soup = BeautifulSoup(driver.page_source,'html5lib')\n",
    "    driver.close()\n",
    "    return soup"
   ]
  },
  {
   "cell_type": "markdown",
   "metadata": {},
   "source": [
    "#### Page Counter"
   ]
  },
  {
   "cell_type": "code",
   "execution_count": 5,
   "metadata": {},
   "outputs": [],
   "source": [
    "def page_counter(soup):\n",
    "    results = soup.find(class_=\"sortAndH1Cont\")\n",
    "    display = results.find_all('span',class_=\"fleft grey-text mr-5 fs12\")\n",
    "    return math.ceil(int(display[0].text.split(\"of \")[1])/20)"
   ]
  },
  {
   "cell_type": "markdown",
   "metadata": {},
   "source": [
    "#### Extraxt Info"
   ]
  },
  {
   "cell_type": "code",
   "execution_count": 6,
   "metadata": {},
   "outputs": [],
   "source": [
    "def extract_info(postings,soup):\n",
    "    results = soup.find(class_='list')\n",
    "    jobs = results.find_all('article',class_='jobTuple bgWhite br4 mb-8')\n",
    "    for job in jobs:\n",
    "        URL = job.find('a',class_ = \"title fw500 ellipsis\").get('href')\n",
    "        title = job.find('a',class_ = \"title fw500 ellipsis\")\n",
    "        exp = job.find('span',class_ =\"ellipsis fleft fs12 lh16\").text\n",
    "        company = job.find('a',class_=\"subTitle ellipsis fleft\").text\n",
    "        SKILLS =  job.find_all('li',class_=\"fleft fs12 grey-text lh16 dot\")\n",
    "        skills = []\n",
    "        for skill in SKILLS:\n",
    "            skills.append(skill.text)\n",
    "        postings = postings.append({'URL':URL,'Title':title,'Exp':exp,'Company':company,'Skills':skills},ignore_index=True)\n",
    "    return postings   "
   ]
  },
  {
   "cell_type": "markdown",
   "metadata": {},
   "source": [
    "#### Main"
   ]
  },
  {
   "cell_type": "code",
   "execution_count": 7,
   "metadata": {},
   "outputs": [
    {
     "name": "stderr",
     "output_type": "stream",
     "text": [
      "<ipython-input-4-7c7641d5e5bf>:3: DeprecationWarning: executable_path has been deprecated, please pass in a Service object\n",
      "  driver = webdriver.Chrome('E:\\\\chromedriver_win32 (1)\\\\chromedriver.exe')\n"
     ]
    },
    {
     "name": "stdout",
     "output_type": "stream",
     "text": [
      "Total number of pages for Data Analyst in Chennai is 80\n",
      "Wall time: 15.3 s\n"
     ]
    }
   ],
   "source": [
    "%%time\n",
    "jobsearch = pd.DataFrame(columns=['URL','Title','Exp','Company','Skills'])\n",
    "soup1 = import_data(url)\n",
    "pages = page_counter(soup1)\n",
    "print('Total number of pages for {} in {} is {}'.format(Job,Location,pages))"
   ]
  },
  {
   "cell_type": "markdown",
   "metadata": {},
   "source": [
    "Scraping only 5 pages for faster implementation"
   ]
  },
  {
   "cell_type": "code",
   "execution_count": 8,
   "metadata": {},
   "outputs": [
    {
     "name": "stderr",
     "output_type": "stream",
     "text": [
      "<ipython-input-4-7c7641d5e5bf>:3: DeprecationWarning: executable_path has been deprecated, please pass in a Service object\n",
      "  driver = webdriver.Chrome('E:\\\\chromedriver_win32 (1)\\\\chromedriver.exe')\n"
     ]
    },
    {
     "name": "stdout",
     "output_type": "stream",
     "text": [
      "Wall time: 1min 15s\n"
     ]
    }
   ],
   "source": [
    "%%time\n",
    "pages = 5\n",
    "for i in range(1,pages+1):\n",
    "    page_url = url+\"-\"+ str(i)\n",
    "    page_soup = import_data(page_url)\n",
    "    jobsearch = extract_info(jobsearch,page_soup)\n",
    "jobsearch.to_csv('jobsearch.csv')"
   ]
  },
  {
   "cell_type": "code",
   "execution_count": 9,
   "metadata": {},
   "outputs": [
    {
     "data": {
      "text/html": [
       "<div>\n",
       "<style scoped>\n",
       "    .dataframe tbody tr th:only-of-type {\n",
       "        vertical-align: middle;\n",
       "    }\n",
       "\n",
       "    .dataframe tbody tr th {\n",
       "        vertical-align: top;\n",
       "    }\n",
       "\n",
       "    .dataframe thead th {\n",
       "        text-align: right;\n",
       "    }\n",
       "</style>\n",
       "<table border=\"1\" class=\"dataframe\">\n",
       "  <thead>\n",
       "    <tr style=\"text-align: right;\">\n",
       "      <th></th>\n",
       "      <th>URL</th>\n",
       "      <th>Title</th>\n",
       "      <th>Exp</th>\n",
       "      <th>Company</th>\n",
       "      <th>Skills</th>\n",
       "    </tr>\n",
       "  </thead>\n",
       "  <tbody>\n",
       "    <tr>\n",
       "      <th>0</th>\n",
       "      <td>https://www.naukri.com/job-listings-senior-dat...</td>\n",
       "      <td>[Senior Data Analyst]</td>\n",
       "      <td>5-10 Yrs</td>\n",
       "      <td>manoramaONLINE</td>\n",
       "      <td>[data analysis, Data Analyst, sql, python, int...</td>\n",
       "    </tr>\n",
       "    <tr>\n",
       "      <th>1</th>\n",
       "      <td>https://www.naukri.com/job-listings-mis-execut...</td>\n",
       "      <td>[MIS Executive / Data Analyst - MPS Limited]</td>\n",
       "      <td>2-5 Yrs</td>\n",
       "      <td>MPS Ltd.- Guindy, Chennai</td>\n",
       "      <td>[MIS Reporting, advanced excel, Data Analyst, ...</td>\n",
       "    </tr>\n",
       "    <tr>\n",
       "      <th>2</th>\n",
       "      <td>https://www.naukri.com/job-listings-business-d...</td>\n",
       "      <td>[BUSINESS DATA ANALYST - GOOGLE ANALYTICS]</td>\n",
       "      <td>5-7 Yrs</td>\n",
       "      <td>Lennox India Technology Centre Private Limited</td>\n",
       "      <td>[Google Analytics, Business Data Analyst, digi...</td>\n",
       "    </tr>\n",
       "    <tr>\n",
       "      <th>3</th>\n",
       "      <td>https://www.naukri.com/job-listings-business-a...</td>\n",
       "      <td>[Business Analyst/Data analyst - Payments Domain]</td>\n",
       "      <td>4-8 Yrs</td>\n",
       "      <td>CGI</td>\n",
       "      <td>[data analysis, SWIFT, SQL queries, Functional...</td>\n",
       "    </tr>\n",
       "    <tr>\n",
       "      <th>4</th>\n",
       "      <td>https://www.naukri.com/job-listings-senior-lea...</td>\n",
       "      <td>[Senior/Lead - data Analyst]</td>\n",
       "      <td>5-10 Yrs</td>\n",
       "      <td>CSS Corp</td>\n",
       "      <td>[Data Analysis, SQL, Python, verbal, analytica...</td>\n",
       "    </tr>\n",
       "  </tbody>\n",
       "</table>\n",
       "</div>"
      ],
      "text/plain": [
       "                                                 URL  \\\n",
       "0  https://www.naukri.com/job-listings-senior-dat...   \n",
       "1  https://www.naukri.com/job-listings-mis-execut...   \n",
       "2  https://www.naukri.com/job-listings-business-d...   \n",
       "3  https://www.naukri.com/job-listings-business-a...   \n",
       "4  https://www.naukri.com/job-listings-senior-lea...   \n",
       "\n",
       "                                               Title       Exp  \\\n",
       "0                              [Senior Data Analyst]  5-10 Yrs   \n",
       "1       [MIS Executive / Data Analyst - MPS Limited]   2-5 Yrs   \n",
       "2         [BUSINESS DATA ANALYST - GOOGLE ANALYTICS]   5-7 Yrs   \n",
       "3  [Business Analyst/Data analyst - Payments Domain]   4-8 Yrs   \n",
       "4                       [Senior/Lead - data Analyst]  5-10 Yrs   \n",
       "\n",
       "                                          Company  \\\n",
       "0                                  manoramaONLINE   \n",
       "1                       MPS Ltd.- Guindy, Chennai   \n",
       "2  Lennox India Technology Centre Private Limited   \n",
       "3                                             CGI   \n",
       "4                                        CSS Corp   \n",
       "\n",
       "                                              Skills  \n",
       "0  [data analysis, Data Analyst, sql, python, int...  \n",
       "1  [MIS Reporting, advanced excel, Data Analyst, ...  \n",
       "2  [Google Analytics, Business Data Analyst, digi...  \n",
       "3  [data analysis, SWIFT, SQL queries, Functional...  \n",
       "4  [Data Analysis, SQL, Python, verbal, analytica...  "
      ]
     },
     "execution_count": 9,
     "metadata": {},
     "output_type": "execute_result"
    }
   ],
   "source": [
    "jobsearch.head()"
   ]
  },
  {
   "cell_type": "code",
   "execution_count": 10,
   "metadata": {},
   "outputs": [
    {
     "name": "stdout",
     "output_type": "stream",
     "text": [
      "<class 'pandas.core.frame.DataFrame'>\n",
      "RangeIndex: 100 entries, 0 to 99\n",
      "Data columns (total 5 columns):\n",
      " #   Column   Non-Null Count  Dtype \n",
      "---  ------   --------------  ----- \n",
      " 0   URL      100 non-null    object\n",
      " 1   Title    100 non-null    object\n",
      " 2   Exp      100 non-null    object\n",
      " 3   Company  100 non-null    object\n",
      " 4   Skills   100 non-null    object\n",
      "dtypes: object(5)\n",
      "memory usage: 4.0+ KB\n"
     ]
    }
   ],
   "source": [
    "jobsearch.info()"
   ]
  }
 ],
 "metadata": {
  "colab": {
   "collapsed_sections": [
    "_6RAizOL_jmQ"
   ],
   "name": "Naukri Web Scraper",
   "provenance": []
  },
  "kernelspec": {
   "display_name": "Python 3",
   "language": "python",
   "name": "python3"
  },
  "language_info": {
   "codemirror_mode": {
    "name": "ipython",
    "version": 3
   },
   "file_extension": ".py",
   "mimetype": "text/x-python",
   "name": "python",
   "nbconvert_exporter": "python",
   "pygments_lexer": "ipython3",
   "version": "3.8.8"
  }
 },
 "nbformat": 4,
 "nbformat_minor": 4
}
