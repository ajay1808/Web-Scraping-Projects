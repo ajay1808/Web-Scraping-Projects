{
 "cells": [
  {
   "cell_type": "markdown",
   "metadata": {
    "id": "6277guXafMHT"
   },
   "source": [
    "**Analysis of Job Opportunities in Indian Cities**"
   ]
  },
  {
   "cell_type": "markdown",
   "metadata": {
    "id": "gF9H4uax4nES"
   },
   "source": [
    "Author: Ajay Rangan Kasturirangan <br>\n",
    "[GitHub](https://github.com/ajay1808), [Twitter](https://twitter.com/rangan_ajay) "
   ]
  },
  {
   "cell_type": "markdown",
   "metadata": {
    "id": "TJlyc-dIf8MS"
   },
   "source": [
    "This code uses a basic webscaper for [in.indeed.com](https://in.indeed.com/) which is a job search portal in India. It uses the following code you can find in my [Github](https://github.com/ajay1808/Web-Scraping-Projects/blob/main/Indeed_Web_Scraper.ipynb) profile."
   ]
  },
  {
   "cell_type": "markdown",
   "metadata": {
    "id": "bNgs8FvDkoPN"
   },
   "source": [
    "This will compare multiple Indian cities on the basis of job opportunities of a certain job position. For the example of this report I will take position of Data Analyst."
   ]
  },
  {
   "cell_type": "markdown",
   "metadata": {
    "id": "t5HM9GnTl4ry"
   },
   "source": [
    "Let's insert the code for the Webscraper as used in my [Github](https://github.com/ajay1808/Web-Scraping-Projects/blob/main/Indeed_Web_Scraper.ipynb)"
   ]
  },
  {
   "cell_type": "code",
   "execution_count": 1,
   "metadata": {
    "id": "RRQ2-ScdfB9s"
   },
   "outputs": [],
   "source": [
    "from bs4 import BeautifulSoup\n",
    "import requests\n",
    "import numpy as np\n",
    "import csv\n",
    "import pandas as pd\n",
    "import seaborn as sns\n",
    "from time import sleep\n",
    "from random import randint\n",
    "from datetime import datetime\n",
    "\n",
    "def get_url(position, location):\n",
    "        position = position.replace(\" \",\"%20\")\n",
    "        location = location.replace(\" \",\"%20\")\n",
    "        template = 'https://in.indeed.com/jobs?q={}&l={}'\n",
    "        url = template.format(position, location)\n",
    "        return url\n",
    "\n",
    "def get_record(card):\n",
    "    '''Extract job date from a single record '''\n",
    "    try:\n",
    "        job_title = card.find('h2', 'jobTitle').text.strip()\n",
    "    except AttributeError:\n",
    "        job_title = ''\n",
    "    try:\n",
    "        company = card.find('span', 'companyName').text.strip()\n",
    "    except AttributeError:\n",
    "        company = ''\n",
    "    try:\n",
    "        location = card.find('div', 'companyLocation').text.strip()\n",
    "    except AttributeError:\n",
    "        location = ''\n",
    "    try:\n",
    "        job_summary = card.find('div', 'job-snippet').text.strip()\n",
    "    except AttributeError:\n",
    "        job_summary = ''\n",
    "    try:\n",
    "        post_date = card.find('span', 'date').text.strip()\n",
    "        post_date = post_date[6:]\n",
    "    except AttributeError:\n",
    "        post_date = ''\n",
    "    try:\n",
    "        salary = card.find('div', 'attribute_snippet').text.strip()\n",
    "    except AttributeError:\n",
    "        salary = ''\n",
    "    \n",
    "    #extract_date = datetime.today().strftime('%Y-%m-%d')\n",
    "    #job_url = 'https://www.in.indeed.com' + atag.get('href')\n",
    "    \n",
    "    return (job_title, company, location, job_summary, salary, post_date)\n",
    "\n",
    "def main(position, location):\n",
    "    records = []  \n",
    "    count = 0\n",
    "    url = get_url(position, location)\n",
    "    purl = url \n",
    "    while True:\n",
    "        count += 1\n",
    "        response = requests.get(url)\n",
    "        soup = BeautifulSoup(response.text, 'html.parser')\n",
    "        cards = soup.find_all('div', 'job_seen_beacon')\n",
    "\n",
    "\n",
    "        for card in cards:\n",
    "            record = get_record(card)\n",
    "            records.append(record)\n",
    "        try:\n",
    "            url = 'https://in.indeed.com' + soup.find('a', {'aria-label': 'Next'}).get('href')\n",
    "            delay = randint(1, 10)\n",
    "            sleep(delay)\n",
    "        except AttributeError:\n",
    "            print(location)\n",
    "            print(\"Number of web pages surfed: \",count)\n",
    "            print(\"\")\n",
    "            break\n",
    "    recorddata = pd.DataFrame(data = records, columns =['Job Title', 'Company', 'Location', 'Summary', 'Salary', 'Posted Date'] )\n",
    "    return recorddata"
   ]
  },
  {
   "cell_type": "markdown",
   "metadata": {
    "id": "md7tvK1y4Zb9"
   },
   "source": [
    "Now lets get our Indian City Dataset so we can compare different Indian cities"
   ]
  },
  {
   "cell_type": "code",
   "execution_count": 2,
   "metadata": {
    "colab": {
     "base_uri": "https://localhost:8080/",
     "height": 206
    },
    "id": "yJ1Frp9P4gle",
    "outputId": "f654d700-5d60-4516-edfb-811b55bab968"
   },
   "outputs": [
    {
     "data": {
      "text/html": [
       "<div>\n",
       "<style scoped>\n",
       "    .dataframe tbody tr th:only-of-type {\n",
       "        vertical-align: middle;\n",
       "    }\n",
       "\n",
       "    .dataframe tbody tr th {\n",
       "        vertical-align: top;\n",
       "    }\n",
       "\n",
       "    .dataframe thead th {\n",
       "        text-align: right;\n",
       "    }\n",
       "</style>\n",
       "<table border=\"1\" class=\"dataframe\">\n",
       "  <thead>\n",
       "    <tr style=\"text-align: right;\">\n",
       "      <th></th>\n",
       "      <th>Rank</th>\n",
       "      <th>City</th>\n",
       "      <th>2020</th>\n",
       "      <th>2021</th>\n",
       "      <th>Share (%)</th>\n",
       "      <th>Population</th>\n",
       "      <th>(%)</th>\n",
       "    </tr>\n",
       "  </thead>\n",
       "  <tbody>\n",
       "    <tr>\n",
       "      <th>0</th>\n",
       "      <td>1</td>\n",
       "      <td>Delhi</td>\n",
       "      <td>30290936</td>\n",
       "      <td>31181377</td>\n",
       "      <td>2.240</td>\n",
       "      <td>890441</td>\n",
       "      <td>2.94</td>\n",
       "    </tr>\n",
       "    <tr>\n",
       "      <th>1</th>\n",
       "      <td>2</td>\n",
       "      <td>Mumbai (Bombay)</td>\n",
       "      <td>20411274</td>\n",
       "      <td>20667655</td>\n",
       "      <td>1.480</td>\n",
       "      <td>256381</td>\n",
       "      <td>1.26</td>\n",
       "    </tr>\n",
       "    <tr>\n",
       "      <th>2</th>\n",
       "      <td>3</td>\n",
       "      <td>Kolkata (Calcutta)</td>\n",
       "      <td>14850066</td>\n",
       "      <td>14974073</td>\n",
       "      <td>1.070</td>\n",
       "      <td>124007</td>\n",
       "      <td>0.84</td>\n",
       "    </tr>\n",
       "    <tr>\n",
       "      <th>3</th>\n",
       "      <td>4</td>\n",
       "      <td>Bangalore</td>\n",
       "      <td>12326532</td>\n",
       "      <td>12764935</td>\n",
       "      <td>0.916</td>\n",
       "      <td>438403</td>\n",
       "      <td>3.56</td>\n",
       "    </tr>\n",
       "    <tr>\n",
       "      <th>4</th>\n",
       "      <td>5</td>\n",
       "      <td>Chennai (Madras)</td>\n",
       "      <td>10971108</td>\n",
       "      <td>11235018</td>\n",
       "      <td>0.806</td>\n",
       "      <td>263910</td>\n",
       "      <td>2.41</td>\n",
       "    </tr>\n",
       "  </tbody>\n",
       "</table>\n",
       "</div>"
      ],
      "text/plain": [
       "   Rank                City      2020      2021  Share (%)  Population   (%)\n",
       "0     1               Delhi  30290936  31181377      2.240      890441  2.94\n",
       "1     2     Mumbai (Bombay)  20411274  20667655      1.480      256381  1.26\n",
       "2     3  Kolkata (Calcutta)  14850066  14974073      1.070      124007  0.84\n",
       "3     4           Bangalore  12326532  12764935      0.916      438403  3.56\n",
       "4     5    Chennai (Madras)  10971108  11235018      0.806      263910  2.41"
      ]
     },
     "execution_count": 2,
     "metadata": {},
     "output_type": "execute_result"
    }
   ],
   "source": [
    "Cities = pd.read_html('https://statisticstimes.com/demographics/country/india-cities-population.php')[1]\n",
    "Columns = []\n",
    "for i in range(len(Cities.columns)):\n",
    "  Columns.append(Cities.columns[i][1])\n",
    "Cities.columns  = Columns\n",
    "Cities.head()"
   ]
  },
  {
   "cell_type": "code",
   "execution_count": 3,
   "metadata": {
    "colab": {
     "base_uri": "https://localhost:8080/"
    },
    "id": "a8TTzF358NiY",
    "outputId": "d35fb176-27ca-4fdc-e4e5-7c0cdd0b5b57"
   },
   "outputs": [
    {
     "name": "stdout",
     "output_type": "stream",
     "text": [
      "<class 'pandas.core.frame.DataFrame'>\n",
      "RangeIndex: 181 entries, 0 to 180\n",
      "Data columns (total 7 columns):\n",
      " #   Column      Non-Null Count  Dtype  \n",
      "---  ------      --------------  -----  \n",
      " 0   Rank        181 non-null    int64  \n",
      " 1   City        181 non-null    object \n",
      " 2   2020        181 non-null    int64  \n",
      " 3   2021        181 non-null    int64  \n",
      " 4   Share (%)   181 non-null    float64\n",
      " 5   Population  181 non-null    int64  \n",
      " 6   (%)         181 non-null    float64\n",
      "dtypes: float64(2), int64(4), object(1)\n",
      "memory usage: 10.0+ KB\n"
     ]
    }
   ],
   "source": [
    "Cities.info()"
   ]
  },
  {
   "cell_type": "markdown",
   "metadata": {
    "id": "PabFirpXEaSP"
   },
   "source": [
    "Now it is time to perform some basic cleaning on the data<br>\n",
    "Let us first remove the names in the brackets."
   ]
  },
  {
   "cell_type": "code",
   "execution_count": 4,
   "metadata": {
    "colab": {
     "base_uri": "https://localhost:8080/",
     "height": 293
    },
    "id": "WtckWnIXB5Zt",
    "outputId": "eeed53ce-4adf-438c-aac8-a13ac7b6b6b2"
   },
   "outputs": [
    {
     "name": "stderr",
     "output_type": "stream",
     "text": [
      "<ipython-input-4-74def4633d8f>:2: SettingWithCopyWarning: \n",
      "A value is trying to be set on a copy of a slice from a DataFrame\n",
      "\n",
      "See the caveats in the documentation: https://pandas.pydata.org/pandas-docs/stable/user_guide/indexing.html#returning-a-view-versus-a-copy\n",
      "  Cities['City'][i] = Cities['City'].str.split(\"(\")[i][0]\n"
     ]
    },
    {
     "data": {
      "text/html": [
       "<div>\n",
       "<style scoped>\n",
       "    .dataframe tbody tr th:only-of-type {\n",
       "        vertical-align: middle;\n",
       "    }\n",
       "\n",
       "    .dataframe tbody tr th {\n",
       "        vertical-align: top;\n",
       "    }\n",
       "\n",
       "    .dataframe thead th {\n",
       "        text-align: right;\n",
       "    }\n",
       "</style>\n",
       "<table border=\"1\" class=\"dataframe\">\n",
       "  <thead>\n",
       "    <tr style=\"text-align: right;\">\n",
       "      <th></th>\n",
       "      <th>Rank</th>\n",
       "      <th>City</th>\n",
       "      <th>2020</th>\n",
       "      <th>2021</th>\n",
       "      <th>Share (%)</th>\n",
       "      <th>Population</th>\n",
       "      <th>(%)</th>\n",
       "    </tr>\n",
       "  </thead>\n",
       "  <tbody>\n",
       "    <tr>\n",
       "      <th>0</th>\n",
       "      <td>1</td>\n",
       "      <td>Delhi</td>\n",
       "      <td>30290936</td>\n",
       "      <td>31181377</td>\n",
       "      <td>2.240</td>\n",
       "      <td>890441</td>\n",
       "      <td>2.94</td>\n",
       "    </tr>\n",
       "    <tr>\n",
       "      <th>1</th>\n",
       "      <td>2</td>\n",
       "      <td>Mumbai</td>\n",
       "      <td>20411274</td>\n",
       "      <td>20667655</td>\n",
       "      <td>1.480</td>\n",
       "      <td>256381</td>\n",
       "      <td>1.26</td>\n",
       "    </tr>\n",
       "    <tr>\n",
       "      <th>2</th>\n",
       "      <td>3</td>\n",
       "      <td>Kolkata</td>\n",
       "      <td>14850066</td>\n",
       "      <td>14974073</td>\n",
       "      <td>1.070</td>\n",
       "      <td>124007</td>\n",
       "      <td>0.84</td>\n",
       "    </tr>\n",
       "    <tr>\n",
       "      <th>3</th>\n",
       "      <td>4</td>\n",
       "      <td>Bangalore</td>\n",
       "      <td>12326532</td>\n",
       "      <td>12764935</td>\n",
       "      <td>0.916</td>\n",
       "      <td>438403</td>\n",
       "      <td>3.56</td>\n",
       "    </tr>\n",
       "    <tr>\n",
       "      <th>4</th>\n",
       "      <td>5</td>\n",
       "      <td>Chennai</td>\n",
       "      <td>10971108</td>\n",
       "      <td>11235018</td>\n",
       "      <td>0.806</td>\n",
       "      <td>263910</td>\n",
       "      <td>2.41</td>\n",
       "    </tr>\n",
       "  </tbody>\n",
       "</table>\n",
       "</div>"
      ],
      "text/plain": [
       "   Rank       City      2020      2021  Share (%)  Population   (%)\n",
       "0     1      Delhi  30290936  31181377      2.240      890441  2.94\n",
       "1     2    Mumbai   20411274  20667655      1.480      256381  1.26\n",
       "2     3   Kolkata   14850066  14974073      1.070      124007  0.84\n",
       "3     4  Bangalore  12326532  12764935      0.916      438403  3.56\n",
       "4     5   Chennai   10971108  11235018      0.806      263910  2.41"
      ]
     },
     "execution_count": 4,
     "metadata": {},
     "output_type": "execute_result"
    }
   ],
   "source": [
    "for i in range(len(Cities)):\n",
    "  Cities['City'][i] = Cities['City'].str.split(\"(\")[i][0]\n",
    "Cities.head()"
   ]
  },
  {
   "cell_type": "markdown",
   "metadata": {
    "id": "HDImpCS7LH58"
   },
   "source": [
    "We only require the City, rank and population column for our analysis"
   ]
  },
  {
   "cell_type": "code",
   "execution_count": 5,
   "metadata": {
    "colab": {
     "base_uri": "https://localhost:8080/",
     "height": 293
    },
    "id": "3s-3wLvHE8QI",
    "outputId": "52b614fa-834c-4e4f-e702-129d3e037f1c"
   },
   "outputs": [
    {
     "data": {
      "text/html": [
       "<div>\n",
       "<style scoped>\n",
       "    .dataframe tbody tr th:only-of-type {\n",
       "        vertical-align: middle;\n",
       "    }\n",
       "\n",
       "    .dataframe tbody tr th {\n",
       "        vertical-align: top;\n",
       "    }\n",
       "\n",
       "    .dataframe thead th {\n",
       "        text-align: right;\n",
       "    }\n",
       "</style>\n",
       "<table border=\"1\" class=\"dataframe\">\n",
       "  <thead>\n",
       "    <tr style=\"text-align: right;\">\n",
       "      <th></th>\n",
       "      <th>Rank</th>\n",
       "      <th>City</th>\n",
       "      <th>Population</th>\n",
       "      <th>Growth</th>\n",
       "    </tr>\n",
       "  </thead>\n",
       "  <tbody>\n",
       "    <tr>\n",
       "      <th>0</th>\n",
       "      <td>1</td>\n",
       "      <td>Delhi</td>\n",
       "      <td>31181377</td>\n",
       "      <td>2.94</td>\n",
       "    </tr>\n",
       "    <tr>\n",
       "      <th>1</th>\n",
       "      <td>2</td>\n",
       "      <td>Mumbai</td>\n",
       "      <td>20667655</td>\n",
       "      <td>1.26</td>\n",
       "    </tr>\n",
       "    <tr>\n",
       "      <th>2</th>\n",
       "      <td>3</td>\n",
       "      <td>Kolkata</td>\n",
       "      <td>14974073</td>\n",
       "      <td>0.84</td>\n",
       "    </tr>\n",
       "    <tr>\n",
       "      <th>3</th>\n",
       "      <td>4</td>\n",
       "      <td>Bangalore</td>\n",
       "      <td>12764935</td>\n",
       "      <td>3.56</td>\n",
       "    </tr>\n",
       "    <tr>\n",
       "      <th>4</th>\n",
       "      <td>5</td>\n",
       "      <td>Chennai</td>\n",
       "      <td>11235018</td>\n",
       "      <td>2.41</td>\n",
       "    </tr>\n",
       "  </tbody>\n",
       "</table>\n",
       "</div>"
      ],
      "text/plain": [
       "   Rank       City  Population  Growth\n",
       "0     1      Delhi    31181377    2.94\n",
       "1     2    Mumbai     20667655    1.26\n",
       "2     3   Kolkata     14974073    0.84\n",
       "3     4  Bangalore    12764935    3.56\n",
       "4     5   Chennai     11235018    2.41"
      ]
     },
     "execution_count": 5,
     "metadata": {},
     "output_type": "execute_result"
    }
   ],
   "source": [
    "Cities = Cities[['Rank','City','2021','(%)']]\n",
    "Cities.rename(columns = {'2021':'Population','(%)':'Growth'},inplace = True)\n",
    "Cities.head()"
   ]
  },
  {
   "cell_type": "markdown",
   "metadata": {
    "id": "dMnvFeMVL3Ip"
   },
   "source": [
    "Let us see the top 10 cities by population"
   ]
  },
  {
   "cell_type": "code",
   "execution_count": 6,
   "metadata": {
    "colab": {
     "base_uri": "https://localhost:8080/",
     "height": 363
    },
    "id": "t5Oz1kCLLk58",
    "outputId": "949b03e5-3357-4ff1-c447-95ec9dde8697"
   },
   "outputs": [
    {
     "data": {
      "text/html": [
       "<div>\n",
       "<style scoped>\n",
       "    .dataframe tbody tr th:only-of-type {\n",
       "        vertical-align: middle;\n",
       "    }\n",
       "\n",
       "    .dataframe tbody tr th {\n",
       "        vertical-align: top;\n",
       "    }\n",
       "\n",
       "    .dataframe thead th {\n",
       "        text-align: right;\n",
       "    }\n",
       "</style>\n",
       "<table border=\"1\" class=\"dataframe\">\n",
       "  <thead>\n",
       "    <tr style=\"text-align: right;\">\n",
       "      <th></th>\n",
       "      <th>Rank</th>\n",
       "      <th>City</th>\n",
       "      <th>Population</th>\n",
       "      <th>Growth</th>\n",
       "    </tr>\n",
       "  </thead>\n",
       "  <tbody>\n",
       "    <tr>\n",
       "      <th>0</th>\n",
       "      <td>1</td>\n",
       "      <td>Delhi</td>\n",
       "      <td>31181377</td>\n",
       "      <td>2.94</td>\n",
       "    </tr>\n",
       "    <tr>\n",
       "      <th>1</th>\n",
       "      <td>2</td>\n",
       "      <td>Mumbai</td>\n",
       "      <td>20667655</td>\n",
       "      <td>1.26</td>\n",
       "    </tr>\n",
       "    <tr>\n",
       "      <th>2</th>\n",
       "      <td>3</td>\n",
       "      <td>Kolkata</td>\n",
       "      <td>14974073</td>\n",
       "      <td>0.84</td>\n",
       "    </tr>\n",
       "    <tr>\n",
       "      <th>3</th>\n",
       "      <td>4</td>\n",
       "      <td>Bangalore</td>\n",
       "      <td>12764935</td>\n",
       "      <td>3.56</td>\n",
       "    </tr>\n",
       "    <tr>\n",
       "      <th>4</th>\n",
       "      <td>5</td>\n",
       "      <td>Chennai</td>\n",
       "      <td>11235018</td>\n",
       "      <td>2.41</td>\n",
       "    </tr>\n",
       "    <tr>\n",
       "      <th>5</th>\n",
       "      <td>6</td>\n",
       "      <td>Hyderabad</td>\n",
       "      <td>10268653</td>\n",
       "      <td>2.64</td>\n",
       "    </tr>\n",
       "    <tr>\n",
       "      <th>6</th>\n",
       "      <td>7</td>\n",
       "      <td>Ahmadabad</td>\n",
       "      <td>8253226</td>\n",
       "      <td>2.40</td>\n",
       "    </tr>\n",
       "    <tr>\n",
       "      <th>7</th>\n",
       "      <td>8</td>\n",
       "      <td>Surat</td>\n",
       "      <td>7489742</td>\n",
       "      <td>4.25</td>\n",
       "    </tr>\n",
       "    <tr>\n",
       "      <th>8</th>\n",
       "      <td>9</td>\n",
       "      <td>Pune</td>\n",
       "      <td>6807984</td>\n",
       "      <td>2.69</td>\n",
       "    </tr>\n",
       "    <tr>\n",
       "      <th>9</th>\n",
       "      <td>10</td>\n",
       "      <td>Jaipur</td>\n",
       "      <td>4007505</td>\n",
       "      <td>2.51</td>\n",
       "    </tr>\n",
       "  </tbody>\n",
       "</table>\n",
       "</div>"
      ],
      "text/plain": [
       "   Rank       City  Population  Growth\n",
       "0     1      Delhi    31181377    2.94\n",
       "1     2    Mumbai     20667655    1.26\n",
       "2     3   Kolkata     14974073    0.84\n",
       "3     4  Bangalore    12764935    3.56\n",
       "4     5   Chennai     11235018    2.41\n",
       "5     6  Hyderabad    10268653    2.64\n",
       "6     7  Ahmadabad     8253226    2.40\n",
       "7     8      Surat     7489742    4.25\n",
       "8     9      Pune      6807984    2.69\n",
       "9    10     Jaipur     4007505    2.51"
      ]
     },
     "execution_count": 6,
     "metadata": {},
     "output_type": "execute_result"
    }
   ],
   "source": [
    "Cities[Cities[['Rank','City']]['Rank'] <= 10]"
   ]
  },
  {
   "cell_type": "markdown",
   "metadata": {
    "id": "BmIGLevtMqA7"
   },
   "source": [
    "Let us extract data about data analyst jobs in all these cities"
   ]
  },
  {
   "cell_type": "code",
   "execution_count": 7,
   "metadata": {
    "colab": {
     "base_uri": "https://localhost:8080/"
    },
    "id": "QuUi9U2IL_-S",
    "outputId": "536f9ea5-1da4-41f3-9c66-19f2a57879af"
   },
   "outputs": [
    {
     "data": {
      "text/plain": [
       "['Delhi',\n",
       " 'Mumbai ',\n",
       " 'Kolkata ',\n",
       " 'Bangalore',\n",
       " 'Chennai ',\n",
       " 'Hyderabad',\n",
       " 'Ahmadabad',\n",
       " 'Surat',\n",
       " 'Pune ',\n",
       " 'Jaipur']"
      ]
     },
     "execution_count": 7,
     "metadata": {},
     "output_type": "execute_result"
    }
   ],
   "source": [
    "CityList = Cities[:10]['City'].tolist()\n",
    "CityList"
   ]
  },
  {
   "cell_type": "code",
   "execution_count": 8,
   "metadata": {
    "colab": {
     "base_uri": "https://localhost:8080/",
     "height": 944
    },
    "id": "uwbotBJmM4z2",
    "outputId": "734cc812-a709-42f1-e324-cd7d4ec47492"
   },
   "outputs": [
    {
     "name": "stdout",
     "output_type": "stream",
     "text": [
      "Delhi\n",
      "Number of web pages surfed:  19\n",
      "\n",
      "Mumbai \n",
      "Number of web pages surfed:  62\n",
      "\n",
      "Kolkata \n",
      "Number of web pages surfed:  6\n",
      "\n",
      "Bangalore\n",
      "Number of web pages surfed:  67\n",
      "\n",
      "Chennai \n",
      "Number of web pages surfed:  36\n",
      "\n",
      "Hyderabad\n",
      "Number of web pages surfed:  59\n",
      "\n",
      "Ahmadabad\n",
      "Number of web pages surfed:  7\n",
      "\n",
      "Surat\n",
      "Number of web pages surfed:  2\n",
      "\n",
      "Pune \n",
      "Number of web pages surfed:  55\n",
      "\n",
      "Jaipur\n",
      "Number of web pages surfed:  3\n",
      "\n"
     ]
    },
    {
     "data": {
      "text/html": [
       "<div>\n",
       "<style scoped>\n",
       "    .dataframe tbody tr th:only-of-type {\n",
       "        vertical-align: middle;\n",
       "    }\n",
       "\n",
       "    .dataframe tbody tr th {\n",
       "        vertical-align: top;\n",
       "    }\n",
       "\n",
       "    .dataframe thead th {\n",
       "        text-align: right;\n",
       "    }\n",
       "</style>\n",
       "<table border=\"1\" class=\"dataframe\">\n",
       "  <thead>\n",
       "    <tr style=\"text-align: right;\">\n",
       "      <th></th>\n",
       "      <th>Job Title</th>\n",
       "      <th>Company</th>\n",
       "      <th>Location</th>\n",
       "      <th>Summary</th>\n",
       "      <th>Salary</th>\n",
       "      <th>Posted Date</th>\n",
       "    </tr>\n",
       "  </thead>\n",
       "  <tbody>\n",
       "    <tr>\n",
       "      <th>0</th>\n",
       "      <td>newJunior Analyst - Survey Analytics</td>\n",
       "      <td>Boston Consulting Group</td>\n",
       "      <td>New Delhi, Delhi</td>\n",
       "      <td>Able to quickly learn and use specialized surv...</td>\n",
       "      <td></td>\n",
       "      <td>3 days ago</td>\n",
       "    </tr>\n",
       "    <tr>\n",
       "      <th>1</th>\n",
       "      <td>Junior Analyst - GAMMA</td>\n",
       "      <td>Boston Consulting Group</td>\n",
       "      <td>New Delhi, Delhi</td>\n",
       "      <td>Analytical reasoning and complex problem solvi...</td>\n",
       "      <td></td>\n",
       "      <td>10 days ago</td>\n",
       "    </tr>\n",
       "    <tr>\n",
       "      <th>2</th>\n",
       "      <td>IT Operations Analyst</td>\n",
       "      <td>Boston Consulting Group</td>\n",
       "      <td>New Delhi, Delhi</td>\n",
       "      <td>Basic understanding of the database, data mode...</td>\n",
       "      <td></td>\n",
       "      <td>30+ days ago</td>\n",
       "    </tr>\n",
       "    <tr>\n",
       "      <th>3</th>\n",
       "      <td>newData Entry Analyst</td>\n",
       "      <td>Vamstar</td>\n",
       "      <td>New Delhi, Delhi</td>\n",
       "      <td>Maintaining and improving our existing tools, ...</td>\n",
       "      <td>₹16,000 - ₹19,000 a month</td>\n",
       "      <td>Today</td>\n",
       "    </tr>\n",
       "    <tr>\n",
       "      <th>4</th>\n",
       "      <td>newData Analyst</td>\n",
       "      <td>ARDH SAINIK SERVICES PVT LTD</td>\n",
       "      <td>Pitampura, Delhi</td>\n",
       "      <td>Acquiring data from primary and secondary sour...</td>\n",
       "      <td>₹20,000 - ₹30,000 a month</td>\n",
       "      <td>erActive 5 days ago</td>\n",
       "    </tr>\n",
       "  </tbody>\n",
       "</table>\n",
       "</div>"
      ],
      "text/plain": [
       "                              Job Title                       Company  \\\n",
       "0  newJunior Analyst - Survey Analytics       Boston Consulting Group   \n",
       "1                Junior Analyst - GAMMA       Boston Consulting Group   \n",
       "2                 IT Operations Analyst       Boston Consulting Group   \n",
       "3                 newData Entry Analyst                       Vamstar   \n",
       "4                       newData Analyst  ARDH SAINIK SERVICES PVT LTD   \n",
       "\n",
       "           Location                                            Summary  \\\n",
       "0  New Delhi, Delhi  Able to quickly learn and use specialized surv...   \n",
       "1  New Delhi, Delhi  Analytical reasoning and complex problem solvi...   \n",
       "2  New Delhi, Delhi  Basic understanding of the database, data mode...   \n",
       "3  New Delhi, Delhi  Maintaining and improving our existing tools, ...   \n",
       "4  Pitampura, Delhi  Acquiring data from primary and secondary sour...   \n",
       "\n",
       "                      Salary          Posted Date  \n",
       "0                                      3 days ago  \n",
       "1                                     10 days ago  \n",
       "2                                    30+ days ago  \n",
       "3  ₹16,000 - ₹19,000 a month                Today  \n",
       "4  ₹20,000 - ₹30,000 a month  erActive 5 days ago  "
      ]
     },
     "execution_count": 8,
     "metadata": {},
     "output_type": "execute_result"
    }
   ],
   "source": [
    "JobData = pd.DataFrame(columns = ['Job Title', 'Company', 'Location', 'Summary', 'Salary', 'Posted Date'])\n",
    "CityCol = []\n",
    "for i in range(len(CityList)):\n",
    "  record = main(\"Data Analyst\",CityList[i])\n",
    "  JobData = pd.concat([JobData,record])\n",
    "  CityCol.append(CityList[i]*len(record))\n",
    "JobData.head()"
   ]
  },
  {
   "cell_type": "code",
   "execution_count": 9,
   "metadata": {
    "colab": {
     "base_uri": "https://localhost:8080/"
    },
    "id": "0Ulual4wP1zG",
    "outputId": "c4e88b2d-c3fa-4032-cb98-5ad954918aab"
   },
   "outputs": [
    {
     "data": {
      "text/plain": [
       "array(['New Delhi, Delhi', 'Pitampura, Delhi', 'Delhi, Delhi',\n",
       "       'Temporarily Remote in Delhi, Delhi', 'India',\n",
       "       'Connaught Place, Delhi, Delhi', 'Patparganj, Delhi, Delhi',\n",
       "       'Remote in Delhi, Delhi', 'Gurgaon Road, Delhi',\n",
       "       'Bhajan Pura, Delhi', 'Remote in New Delhi, Delhi',\n",
       "       'Lajpat Nagar, Delhi, Delhi', 'Delhi', 'Saket, Delhi',\n",
       "       'Temporarily Remote in New Delhi, Delhi', 'Jasola, Delhi, Delhi',\n",
       "       'Pitampura, Delhi, Delhi', 'Kalkaji, Delhi, Delhi',\n",
       "       'Mehrau;I, Delhi', 'Sushant Lok, Delhi, Delhi',\n",
       "       'New Delhi, Delhi+1 location', 'Mumbai, Maharashtra',\n",
       "       'Remote in Mumbai, Maharashtra', 'Mumbai, Maharashtra+1 location',\n",
       "       'Navi Mumbai, Maharashtra', 'Vikhroli, Mumbai, Maharashtra',\n",
       "       'Hybrid remote in Mumbai, Maharashtra',\n",
       "       'Temporarily Remote in Mumbai, Maharashtra',\n",
       "       'Vashi, Navi Mumbai, Maharashtra',\n",
       "       'Lower Parel, Mumbai, Maharashtra',\n",
       "       'Hybrid remote in Navi Mumbai, Maharashtra', 'Thane, Maharashtra',\n",
       "       'Kanjurmarg, Mumbai, Maharashtra',\n",
       "       'Navi Mumbai, Maharashtra+1 location', 'Fort, Mumbai, Maharashtra',\n",
       "       'Pali Hill, Mumbai, Maharashtra',\n",
       "       'Remote in Navi Mumbai, Maharashtra',\n",
       "       'Mumbai Central, Mumbai, Maharashtra', 'Remote in India',\n",
       "       'Airoli, Navi Mumbai, Maharashtra', 'Marol, Mumbai, Maharashtra',\n",
       "       'The Rutu Estate, Thane, Maharashtra',\n",
       "       'Churchgate, Mumbai, Maharashtra', 'Malad, Mumbai, Maharashtra',\n",
       "       'Borivali, Mumbai, Maharashtra', 'Andheri, Mumbai, Maharashtra',\n",
       "       'Wagle Estate, Thane, Maharashtra', 'Bandra, Mumbai, Maharashtra',\n",
       "       'New Town, Kolkata, West Bengal', 'Bally, West Bengal',\n",
       "       'Kolkata, West Bengal',\n",
       "       'Temporarily Remote in Kolkata, West Bengal',\n",
       "       'Ballygunge, Kolkata, West Bengal',\n",
       "       'Jadavpur, Kolkata, West Bengal', 'Bengaluru, Karnataka',\n",
       "       'Remote in Bengaluru, Karnataka',\n",
       "       'HSR Layout Sector 2, Bengaluru, Karnataka',\n",
       "       'Hybrid remote in Bengaluru, Karnataka',\n",
       "       'Temporarily Remote in Bengaluru, Karnataka',\n",
       "       'J. P. Nagar, Bengaluru, Karnataka',\n",
       "       'Lal Bagh, Bengaluru, Karnataka', 'Bangalore Urban, Karnataka',\n",
       "       'Remote in Chennai, Tamil Nadu', 'Chennai, Tamil Nadu',\n",
       "       'Teynampet, Chennai, Tamil Nadu',\n",
       "       'Remote in Velachery, Chennai, Tamil Nadu',\n",
       "       'Hybrid remote in Chennai, Tamil Nadu',\n",
       "       'Temporarily Remote in Chennai, Tamil Nadu',\n",
       "       'Chetput, Chennai, Tamil Nadu', 'Guindy, Chennai, Tamil Nadu',\n",
       "       'Aminjikkarai, Chennai, Tamil Nadu',\n",
       "       'Hybrid remote in Sathangadu, Chennai, Tamil Nadu',\n",
       "       'Tiruvallur, Chennai, Tamil Nadu', 'Oragadam, Chennai, Tamil Nadu',\n",
       "       'Remote in Sholinganallur, Chennai, Tamil Nadu',\n",
       "       'Sholinganallur, Chennai, Tamil Nadu',\n",
       "       'Remote in Chennai, Tamil Nadu+1 location',\n",
       "       'Nungambakkam, Chennai, Tamil Nadu',\n",
       "       'Poonamallee, Chennai, Tamil Nadu',\n",
       "       'Ambattur, Chennai, Tamil Nadu', 'Hyderabad, Telangana',\n",
       "       'Jeedimetla, Hyderabad, Telangana',\n",
       "       'Hyderabad, Telangana+1 location',\n",
       "       'Begumpet, Hyderabad, Telangana', 'Remote in Hyderabad, Telangana',\n",
       "       'Temporarily Remote in Hyderabad, Telangana',\n",
       "       'Madhapur, Hyderabad, Telangana',\n",
       "       'Karkhana, Hyderabad, Telangana+1 location',\n",
       "       'Alwal, Hyderabad, Telangana', 'Nanakramguda, Andhra Pradesh',\n",
       "       'A. S. Rao Nagar, Hyderabad, Telangana', 'Secunderabad, Telangana',\n",
       "       'Temporarily Remote in Kukatpally, Hyderabad, Telangana',\n",
       "       'Remote in Secunderabad, Telangana', 'Telangana',\n",
       "       'Remote in Alwal, Hyderabad, Telangana',\n",
       "       'Hybrid remote in Hyderabad, Telangana',\n",
       "       'Remote in Madhapur, Hyderabad, Telangana',\n",
       "       'Serilingampally, Hyderabad, Telangana',\n",
       "       'Mehdipatnam, Hyderabad, Telangana', 'Ahmedabad, Gujarat',\n",
       "       'Temporarily Remote in Gandhinagar, Gujarat',\n",
       "       'Temporarily Remote in Ahmedabad, Gujarat',\n",
       "       'Remote in Gandhinagar, Gujarat', 'Remote in Ahmedabad, Gujarat',\n",
       "       'Gandhinagar, Gujarat', 'Surat, Gujarat',\n",
       "       'Remote in Surat, Gujarat', 'Pune, Maharashtra',\n",
       "       'Hybrid remote in Pune, Maharashtra',\n",
       "       'Temporarily Remote in Pune, Maharashtra',\n",
       "       'Remote in Pune, Maharashtra', 'Kharadi, Pune, Maharashtra',\n",
       "       'Baner, Pune, Maharashtra',\n",
       "       'Hadapsar, Pune, Maharashtra+1 location',\n",
       "       'Pimpri, Pune, Maharashtra', 'Bavdhan, Pune, Maharashtra',\n",
       "       'Viman Nagar, Pune, Maharashtra', 'Swargate, Pune, Maharashtra',\n",
       "       'Jaipur, Rajasthan'], dtype=object)"
      ]
     },
     "execution_count": 9,
     "metadata": {},
     "output_type": "execute_result"
    }
   ],
   "source": [
    "JobData['Location'].unique()"
   ]
  },
  {
   "cell_type": "code",
   "execution_count": 10,
   "metadata": {
    "id": "6MKSO3w2D5ve"
   },
   "outputs": [],
   "source": [
    "index = np.linspace(0,len(JobData)-1,len(JobData))\n",
    "index = [ int(x) for x in index ]"
   ]
  },
  {
   "cell_type": "code",
   "execution_count": 11,
   "metadata": {
    "colab": {
     "base_uri": "https://localhost:8080/",
     "height": 386
    },
    "id": "sUd8rQk17mNT",
    "outputId": "18e84e4e-235b-43b3-d30f-1694b99dbde8"
   },
   "outputs": [
    {
     "data": {
      "text/html": [
       "<div>\n",
       "<style scoped>\n",
       "    .dataframe tbody tr th:only-of-type {\n",
       "        vertical-align: middle;\n",
       "    }\n",
       "\n",
       "    .dataframe tbody tr th {\n",
       "        vertical-align: top;\n",
       "    }\n",
       "\n",
       "    .dataframe thead th {\n",
       "        text-align: right;\n",
       "    }\n",
       "</style>\n",
       "<table border=\"1\" class=\"dataframe\">\n",
       "  <thead>\n",
       "    <tr style=\"text-align: right;\">\n",
       "      <th></th>\n",
       "      <th>Job Title</th>\n",
       "      <th>Company</th>\n",
       "      <th>Location</th>\n",
       "      <th>Summary</th>\n",
       "      <th>Salary</th>\n",
       "      <th>Posted Date</th>\n",
       "      <th>City</th>\n",
       "    </tr>\n",
       "  </thead>\n",
       "  <tbody>\n",
       "    <tr>\n",
       "      <th>0</th>\n",
       "      <td>newJunior Analyst - Survey Analytics</td>\n",
       "      <td>Boston Consulting Group</td>\n",
       "      <td>New Delhi, Delhi</td>\n",
       "      <td>Able to quickly learn and use specialized surv...</td>\n",
       "      <td></td>\n",
       "      <td>3 days ago</td>\n",
       "      <td>Delhi</td>\n",
       "    </tr>\n",
       "    <tr>\n",
       "      <th>1</th>\n",
       "      <td>Junior Analyst - GAMMA</td>\n",
       "      <td>Boston Consulting Group</td>\n",
       "      <td>New Delhi, Delhi</td>\n",
       "      <td>Analytical reasoning and complex problem solvi...</td>\n",
       "      <td></td>\n",
       "      <td>10 days ago</td>\n",
       "      <td>Delhi</td>\n",
       "    </tr>\n",
       "    <tr>\n",
       "      <th>2</th>\n",
       "      <td>IT Operations Analyst</td>\n",
       "      <td>Boston Consulting Group</td>\n",
       "      <td>New Delhi, Delhi</td>\n",
       "      <td>Basic understanding of the database, data mode...</td>\n",
       "      <td></td>\n",
       "      <td>30+ days ago</td>\n",
       "      <td>Delhi</td>\n",
       "    </tr>\n",
       "    <tr>\n",
       "      <th>3</th>\n",
       "      <td>newData Entry Analyst</td>\n",
       "      <td>Vamstar</td>\n",
       "      <td>New Delhi, Delhi</td>\n",
       "      <td>Maintaining and improving our existing tools, ...</td>\n",
       "      <td>₹16,000 - ₹19,000 a month</td>\n",
       "      <td>Today</td>\n",
       "      <td>Delhi</td>\n",
       "    </tr>\n",
       "    <tr>\n",
       "      <th>4</th>\n",
       "      <td>newData Analyst</td>\n",
       "      <td>ARDH SAINIK SERVICES PVT LTD</td>\n",
       "      <td>Pitampura, Delhi</td>\n",
       "      <td>Acquiring data from primary and secondary sour...</td>\n",
       "      <td>₹20,000 - ₹30,000 a month</td>\n",
       "      <td>erActive 5 days ago</td>\n",
       "      <td>Delhi</td>\n",
       "    </tr>\n",
       "  </tbody>\n",
       "</table>\n",
       "</div>"
      ],
      "text/plain": [
       "                              Job Title                       Company  \\\n",
       "0  newJunior Analyst - Survey Analytics       Boston Consulting Group   \n",
       "1                Junior Analyst - GAMMA       Boston Consulting Group   \n",
       "2                 IT Operations Analyst       Boston Consulting Group   \n",
       "3                 newData Entry Analyst                       Vamstar   \n",
       "4                       newData Analyst  ARDH SAINIK SERVICES PVT LTD   \n",
       "\n",
       "           Location                                            Summary  \\\n",
       "0  New Delhi, Delhi  Able to quickly learn and use specialized surv...   \n",
       "1  New Delhi, Delhi  Analytical reasoning and complex problem solvi...   \n",
       "2  New Delhi, Delhi  Basic understanding of the database, data mode...   \n",
       "3  New Delhi, Delhi  Maintaining and improving our existing tools, ...   \n",
       "4  Pitampura, Delhi  Acquiring data from primary and secondary sour...   \n",
       "\n",
       "                      Salary          Posted Date   City  \n",
       "0                                      3 days ago  Delhi  \n",
       "1                                     10 days ago  Delhi  \n",
       "2                                    30+ days ago  Delhi  \n",
       "3  ₹16,000 - ₹19,000 a month                Today  Delhi  \n",
       "4  ₹20,000 - ₹30,000 a month  erActive 5 days ago  Delhi  "
      ]
     },
     "execution_count": 11,
     "metadata": {},
     "output_type": "execute_result"
    }
   ],
   "source": [
    "CityColList = []\n",
    "NewCityColList =[]\n",
    "for i in range(len(CityCol)):\n",
    "  element = [CityList[i]] * (len(CityCol[i])//len(CityList[i]))\n",
    "  CityColList.append(element)\n",
    "for i in range(len(CityColList)):\n",
    "  for j in range(len(CityColList[i])):\n",
    "    NewCityColList.append(CityColList[i][j])\n",
    "JobData['City'] = NewCityColList\n",
    "JobData.head()"
   ]
  },
  {
   "cell_type": "code",
   "execution_count": 12,
   "metadata": {
    "colab": {
     "base_uri": "https://localhost:8080/",
     "height": 690
    },
    "id": "Vy8FnCUh_RaG",
    "outputId": "4a703f21-9dd3-4b77-bea8-caa9ebc92090"
   },
   "outputs": [
    {
     "data": {
      "text/html": [
       "<div>\n",
       "<style scoped>\n",
       "    .dataframe tbody tr th:only-of-type {\n",
       "        vertical-align: middle;\n",
       "    }\n",
       "\n",
       "    .dataframe tbody tr th {\n",
       "        vertical-align: top;\n",
       "    }\n",
       "\n",
       "    .dataframe thead th {\n",
       "        text-align: right;\n",
       "    }\n",
       "</style>\n",
       "<table border=\"1\" class=\"dataframe\">\n",
       "  <thead>\n",
       "    <tr style=\"text-align: right;\">\n",
       "      <th></th>\n",
       "      <th>Job Title</th>\n",
       "      <th>Company</th>\n",
       "      <th>Location</th>\n",
       "      <th>Summary</th>\n",
       "      <th>Salary</th>\n",
       "      <th>Posted Date</th>\n",
       "      <th>City</th>\n",
       "    </tr>\n",
       "    <tr>\n",
       "      <th>index</th>\n",
       "      <th></th>\n",
       "      <th></th>\n",
       "      <th></th>\n",
       "      <th></th>\n",
       "      <th></th>\n",
       "      <th></th>\n",
       "      <th></th>\n",
       "    </tr>\n",
       "  </thead>\n",
       "  <tbody>\n",
       "    <tr>\n",
       "      <th>0</th>\n",
       "      <td>newJunior Analyst - Survey Analytics</td>\n",
       "      <td>Boston Consulting Group</td>\n",
       "      <td>New Delhi, Delhi</td>\n",
       "      <td>Able to quickly learn and use specialized surv...</td>\n",
       "      <td></td>\n",
       "      <td>3 days ago</td>\n",
       "      <td>Delhi</td>\n",
       "    </tr>\n",
       "    <tr>\n",
       "      <th>1</th>\n",
       "      <td>Junior Analyst - GAMMA</td>\n",
       "      <td>Boston Consulting Group</td>\n",
       "      <td>New Delhi, Delhi</td>\n",
       "      <td>Analytical reasoning and complex problem solvi...</td>\n",
       "      <td></td>\n",
       "      <td>10 days ago</td>\n",
       "      <td>Delhi</td>\n",
       "    </tr>\n",
       "    <tr>\n",
       "      <th>2</th>\n",
       "      <td>IT Operations Analyst</td>\n",
       "      <td>Boston Consulting Group</td>\n",
       "      <td>New Delhi, Delhi</td>\n",
       "      <td>Basic understanding of the database, data mode...</td>\n",
       "      <td></td>\n",
       "      <td>30+ days ago</td>\n",
       "      <td>Delhi</td>\n",
       "    </tr>\n",
       "    <tr>\n",
       "      <th>3</th>\n",
       "      <td>newData Entry Analyst</td>\n",
       "      <td>Vamstar</td>\n",
       "      <td>New Delhi, Delhi</td>\n",
       "      <td>Maintaining and improving our existing tools, ...</td>\n",
       "      <td>₹16,000 - ₹19,000 a month</td>\n",
       "      <td>Today</td>\n",
       "      <td>Delhi</td>\n",
       "    </tr>\n",
       "    <tr>\n",
       "      <th>4</th>\n",
       "      <td>newData Analyst</td>\n",
       "      <td>ARDH SAINIK SERVICES PVT LTD</td>\n",
       "      <td>Pitampura, Delhi</td>\n",
       "      <td>Acquiring data from primary and secondary sour...</td>\n",
       "      <td>₹20,000 - ₹30,000 a month</td>\n",
       "      <td>erActive 5 days ago</td>\n",
       "      <td>Delhi</td>\n",
       "    </tr>\n",
       "    <tr>\n",
       "      <th>...</th>\n",
       "      <td>...</td>\n",
       "      <td>...</td>\n",
       "      <td>...</td>\n",
       "      <td>...</td>\n",
       "      <td>...</td>\n",
       "      <td>...</td>\n",
       "      <td>...</td>\n",
       "    </tr>\n",
       "    <tr>\n",
       "      <th>4647</th>\n",
       "      <td>Business Analyst (Pre-Sales)</td>\n",
       "      <td>RG infotech</td>\n",
       "      <td>Jaipur, Rajasthan</td>\n",
       "      <td>Provides analytic support by coordinating data...</td>\n",
       "      <td>₹10,000 a month</td>\n",
       "      <td>30+ days ago</td>\n",
       "      <td>Jaipur</td>\n",
       "    </tr>\n",
       "    <tr>\n",
       "      <th>4648</th>\n",
       "      <td>Business Analyst</td>\n",
       "      <td>Jobingo HR Solutions</td>\n",
       "      <td>Jaipur, Rajasthan</td>\n",
       "      <td>Initiate to gather data, analyse, interpret an...</td>\n",
       "      <td>₹25,000 - ₹35,000 a month</td>\n",
       "      <td>25 days ago</td>\n",
       "      <td>Jaipur</td>\n",
       "    </tr>\n",
       "    <tr>\n",
       "      <th>4649</th>\n",
       "      <td>Business Analyst ( Post sales)</td>\n",
       "      <td>DevTechnosys</td>\n",
       "      <td>Jaipur, Rajasthan</td>\n",
       "      <td>Quickly understands the business issues and da...</td>\n",
       "      <td></td>\n",
       "      <td>30+ days ago</td>\n",
       "      <td>Jaipur</td>\n",
       "    </tr>\n",
       "    <tr>\n",
       "      <th>4650</th>\n",
       "      <td>Business Analyst(Post sales)</td>\n",
       "      <td>Dev Technosys Pvt. Ltd.</td>\n",
       "      <td>Jaipur, Rajasthan</td>\n",
       "      <td>Quickly understands the business issues and da...</td>\n",
       "      <td></td>\n",
       "      <td>30+ days ago</td>\n",
       "      <td>Jaipur</td>\n",
       "    </tr>\n",
       "    <tr>\n",
       "      <th>4651</th>\n",
       "      <td>Business Analyst ( pre sales)</td>\n",
       "      <td>DevTechnosys</td>\n",
       "      <td>Jaipur, Rajasthan</td>\n",
       "      <td>Quickly understands the business issues and da...</td>\n",
       "      <td></td>\n",
       "      <td>30+ days ago</td>\n",
       "      <td>Jaipur</td>\n",
       "    </tr>\n",
       "  </tbody>\n",
       "</table>\n",
       "<p>4652 rows × 7 columns</p>\n",
       "</div>"
      ],
      "text/plain": [
       "                                  Job Title                       Company  \\\n",
       "index                                                                       \n",
       "0      newJunior Analyst - Survey Analytics       Boston Consulting Group   \n",
       "1                    Junior Analyst - GAMMA       Boston Consulting Group   \n",
       "2                     IT Operations Analyst       Boston Consulting Group   \n",
       "3                     newData Entry Analyst                       Vamstar   \n",
       "4                           newData Analyst  ARDH SAINIK SERVICES PVT LTD   \n",
       "...                                     ...                           ...   \n",
       "4647           Business Analyst (Pre-Sales)                   RG infotech   \n",
       "4648                       Business Analyst          Jobingo HR Solutions   \n",
       "4649         Business Analyst ( Post sales)                  DevTechnosys   \n",
       "4650           Business Analyst(Post sales)       Dev Technosys Pvt. Ltd.   \n",
       "4651          Business Analyst ( pre sales)                  DevTechnosys   \n",
       "\n",
       "                Location                                            Summary  \\\n",
       "index                                                                         \n",
       "0       New Delhi, Delhi  Able to quickly learn and use specialized surv...   \n",
       "1       New Delhi, Delhi  Analytical reasoning and complex problem solvi...   \n",
       "2       New Delhi, Delhi  Basic understanding of the database, data mode...   \n",
       "3       New Delhi, Delhi  Maintaining and improving our existing tools, ...   \n",
       "4       Pitampura, Delhi  Acquiring data from primary and secondary sour...   \n",
       "...                  ...                                                ...   \n",
       "4647   Jaipur, Rajasthan  Provides analytic support by coordinating data...   \n",
       "4648   Jaipur, Rajasthan  Initiate to gather data, analyse, interpret an...   \n",
       "4649   Jaipur, Rajasthan  Quickly understands the business issues and da...   \n",
       "4650   Jaipur, Rajasthan  Quickly understands the business issues and da...   \n",
       "4651   Jaipur, Rajasthan  Quickly understands the business issues and da...   \n",
       "\n",
       "                          Salary          Posted Date    City  \n",
       "index                                                          \n",
       "0                                          3 days ago   Delhi  \n",
       "1                                         10 days ago   Delhi  \n",
       "2                                        30+ days ago   Delhi  \n",
       "3      ₹16,000 - ₹19,000 a month                Today   Delhi  \n",
       "4      ₹20,000 - ₹30,000 a month  erActive 5 days ago   Delhi  \n",
       "...                          ...                  ...     ...  \n",
       "4647             ₹10,000 a month         30+ days ago  Jaipur  \n",
       "4648   ₹25,000 - ₹35,000 a month          25 days ago  Jaipur  \n",
       "4649                                     30+ days ago  Jaipur  \n",
       "4650                                     30+ days ago  Jaipur  \n",
       "4651                                     30+ days ago  Jaipur  \n",
       "\n",
       "[4652 rows x 7 columns]"
      ]
     },
     "execution_count": 12,
     "metadata": {},
     "output_type": "execute_result"
    }
   ],
   "source": [
    "JobData['index'] = index\n",
    "JobData = JobData.set_index('index')\n",
    "JobData"
   ]
  },
  {
   "cell_type": "code",
   "execution_count": 13,
   "metadata": {
    "colab": {
     "base_uri": "https://localhost:8080/"
    },
    "id": "y9UCd12we7_k",
    "outputId": "8e76bb61-ac23-44fc-f35a-34f87691751f"
   },
   "outputs": [
    {
     "data": {
      "text/plain": [
       "(4652, 7)"
      ]
     },
     "execution_count": 13,
     "metadata": {},
     "output_type": "execute_result"
    }
   ],
   "source": [
    "JobData.shape"
   ]
  },
  {
   "cell_type": "markdown",
   "metadata": {
    "id": "dBkS8uiU3wmx"
   },
   "source": [
    "We have a total of 4000 + Data Analyst Job Postings in the Top 10 most populous cities in India posted on Indeed. (As of 7/5/2022) <br>\n",
    "Now lets build some visualizations to understand the data."
   ]
  },
  {
   "cell_type": "code",
   "execution_count": 14,
   "metadata": {
    "colab": {
     "base_uri": "https://localhost:8080/"
    },
    "id": "ZXbaPTWs4dkP",
    "outputId": "7e4d7f55-77b2-41f4-a104-c395c9926280"
   },
   "outputs": [
    {
     "data": {
      "text/plain": [
       "Job Title      3297\n",
       "Company        1578\n",
       "Location        120\n",
       "Summary        3922\n",
       "Salary          147\n",
       "Posted Date      59\n",
       "City             10\n",
       "dtype: int64"
      ]
     },
     "execution_count": 14,
     "metadata": {},
     "output_type": "execute_result"
    }
   ],
   "source": [
    "JobData.nunique()"
   ]
  },
  {
   "cell_type": "code",
   "execution_count": 15,
   "metadata": {},
   "outputs": [
    {
     "data": {
      "text/html": [
       "<div>\n",
       "<style scoped>\n",
       "    .dataframe tbody tr th:only-of-type {\n",
       "        vertical-align: middle;\n",
       "    }\n",
       "\n",
       "    .dataframe tbody tr th {\n",
       "        vertical-align: top;\n",
       "    }\n",
       "\n",
       "    .dataframe thead th {\n",
       "        text-align: right;\n",
       "    }\n",
       "</style>\n",
       "<table border=\"1\" class=\"dataframe\">\n",
       "  <thead>\n",
       "    <tr style=\"text-align: right;\">\n",
       "      <th></th>\n",
       "      <th>Rank</th>\n",
       "      <th>City</th>\n",
       "      <th>Population</th>\n",
       "      <th>Growth</th>\n",
       "      <th>Count</th>\n",
       "    </tr>\n",
       "  </thead>\n",
       "  <tbody>\n",
       "    <tr>\n",
       "      <th>0</th>\n",
       "      <td>1</td>\n",
       "      <td>Delhi</td>\n",
       "      <td>31181377</td>\n",
       "      <td>2.94</td>\n",
       "      <td>277</td>\n",
       "    </tr>\n",
       "    <tr>\n",
       "      <th>1</th>\n",
       "      <td>2</td>\n",
       "      <td>Mumbai</td>\n",
       "      <td>20667655</td>\n",
       "      <td>1.26</td>\n",
       "      <td>918</td>\n",
       "    </tr>\n",
       "    <tr>\n",
       "      <th>2</th>\n",
       "      <td>3</td>\n",
       "      <td>Kolkata</td>\n",
       "      <td>14974073</td>\n",
       "      <td>0.84</td>\n",
       "      <td>78</td>\n",
       "    </tr>\n",
       "    <tr>\n",
       "      <th>3</th>\n",
       "      <td>4</td>\n",
       "      <td>Bangalore</td>\n",
       "      <td>12764935</td>\n",
       "      <td>3.56</td>\n",
       "      <td>1005</td>\n",
       "    </tr>\n",
       "    <tr>\n",
       "      <th>4</th>\n",
       "      <td>5</td>\n",
       "      <td>Chennai</td>\n",
       "      <td>11235018</td>\n",
       "      <td>2.41</td>\n",
       "      <td>540</td>\n",
       "    </tr>\n",
       "    <tr>\n",
       "      <th>...</th>\n",
       "      <td>...</td>\n",
       "      <td>...</td>\n",
       "      <td>...</td>\n",
       "      <td>...</td>\n",
       "      <td>...</td>\n",
       "    </tr>\n",
       "    <tr>\n",
       "      <th>176</th>\n",
       "      <td>177</td>\n",
       "      <td>Arrah</td>\n",
       "      <td>337114</td>\n",
       "      <td>2.35</td>\n",
       "      <td>0</td>\n",
       "    </tr>\n",
       "    <tr>\n",
       "      <th>177</th>\n",
       "      <td>178</td>\n",
       "      <td>Nizamabad</td>\n",
       "      <td>336657</td>\n",
       "      <td>0.96</td>\n",
       "      <td>0</td>\n",
       "    </tr>\n",
       "    <tr>\n",
       "      <th>178</th>\n",
       "      <td>179</td>\n",
       "      <td>Kharagpur</td>\n",
       "      <td>330427</td>\n",
       "      <td>1.11</td>\n",
       "      <td>0</td>\n",
       "    </tr>\n",
       "    <tr>\n",
       "      <th>179</th>\n",
       "      <td>180</td>\n",
       "      <td>Hapur</td>\n",
       "      <td>327349</td>\n",
       "      <td>2.07</td>\n",
       "      <td>0</td>\n",
       "    </tr>\n",
       "    <tr>\n",
       "      <th>180</th>\n",
       "      <td>181</td>\n",
       "      <td>Ratlam</td>\n",
       "      <td>321419</td>\n",
       "      <td>1.60</td>\n",
       "      <td>0</td>\n",
       "    </tr>\n",
       "  </tbody>\n",
       "</table>\n",
       "<p>181 rows × 5 columns</p>\n",
       "</div>"
      ],
      "text/plain": [
       "     Rank       City  Population  Growth  Count\n",
       "0       1      Delhi    31181377    2.94    277\n",
       "1       2    Mumbai     20667655    1.26    918\n",
       "2       3   Kolkata     14974073    0.84     78\n",
       "3       4  Bangalore    12764935    3.56   1005\n",
       "4       5   Chennai     11235018    2.41    540\n",
       "..    ...        ...         ...     ...    ...\n",
       "176   177      Arrah      337114    2.35      0\n",
       "177   178  Nizamabad      336657    0.96      0\n",
       "178   179  Kharagpur      330427    1.11      0\n",
       "179   180      Hapur      327349    2.07      0\n",
       "180   181     Ratlam      321419    1.60      0\n",
       "\n",
       "[181 rows x 5 columns]"
      ]
     },
     "execution_count": 15,
     "metadata": {},
     "output_type": "execute_result"
    }
   ],
   "source": [
    "JobCount = []\n",
    "for i in range(len(Cities)):\n",
    "    count = 0\n",
    "    for j in range(len(JobData)):\n",
    "        if Cities['City'][i] == JobData['City'][j]:\n",
    "            count += 1\n",
    "    JobCount.append(count)\n",
    "Cities['Count'] = JobCount\n",
    "Cities"
   ]
  },
  {
   "cell_type": "code",
   "execution_count": 16,
   "metadata": {},
   "outputs": [
    {
     "name": "stderr",
     "output_type": "stream",
     "text": [
      "<ipython-input-16-878c043d163f>:5: SettingWithCopyWarning: \n",
      "A value is trying to be set on a copy of a slice from a DataFrame.\n",
      "Try using .loc[row_indexer,col_indexer] = value instead\n",
      "\n",
      "See the caveats in the documentation: https://pandas.pydata.org/pandas-docs/stable/user_guide/indexing.html#returning-a-view-versus-a-copy\n",
      "  TopTen['Jobs/1LCapita'] = rec\n"
     ]
    },
    {
     "data": {
      "text/html": [
       "<div>\n",
       "<style scoped>\n",
       "    .dataframe tbody tr th:only-of-type {\n",
       "        vertical-align: middle;\n",
       "    }\n",
       "\n",
       "    .dataframe tbody tr th {\n",
       "        vertical-align: top;\n",
       "    }\n",
       "\n",
       "    .dataframe thead th {\n",
       "        text-align: right;\n",
       "    }\n",
       "</style>\n",
       "<table border=\"1\" class=\"dataframe\">\n",
       "  <thead>\n",
       "    <tr style=\"text-align: right;\">\n",
       "      <th></th>\n",
       "      <th>Rank</th>\n",
       "      <th>City</th>\n",
       "      <th>Population</th>\n",
       "      <th>Growth</th>\n",
       "      <th>Count</th>\n",
       "      <th>Jobs/1LCapita</th>\n",
       "    </tr>\n",
       "  </thead>\n",
       "  <tbody>\n",
       "    <tr>\n",
       "      <th>0</th>\n",
       "      <td>1</td>\n",
       "      <td>Delhi</td>\n",
       "      <td>31181377</td>\n",
       "      <td>2.94</td>\n",
       "      <td>277</td>\n",
       "      <td>0.888351</td>\n",
       "    </tr>\n",
       "    <tr>\n",
       "      <th>1</th>\n",
       "      <td>2</td>\n",
       "      <td>Mumbai</td>\n",
       "      <td>20667655</td>\n",
       "      <td>1.26</td>\n",
       "      <td>918</td>\n",
       "      <td>4.441723</td>\n",
       "    </tr>\n",
       "    <tr>\n",
       "      <th>2</th>\n",
       "      <td>3</td>\n",
       "      <td>Kolkata</td>\n",
       "      <td>14974073</td>\n",
       "      <td>0.84</td>\n",
       "      <td>78</td>\n",
       "      <td>0.520900</td>\n",
       "    </tr>\n",
       "    <tr>\n",
       "      <th>3</th>\n",
       "      <td>4</td>\n",
       "      <td>Bangalore</td>\n",
       "      <td>12764935</td>\n",
       "      <td>3.56</td>\n",
       "      <td>1005</td>\n",
       "      <td>7.873131</td>\n",
       "    </tr>\n",
       "    <tr>\n",
       "      <th>4</th>\n",
       "      <td>5</td>\n",
       "      <td>Chennai</td>\n",
       "      <td>11235018</td>\n",
       "      <td>2.41</td>\n",
       "      <td>540</td>\n",
       "      <td>4.806401</td>\n",
       "    </tr>\n",
       "    <tr>\n",
       "      <th>5</th>\n",
       "      <td>6</td>\n",
       "      <td>Hyderabad</td>\n",
       "      <td>10268653</td>\n",
       "      <td>2.64</td>\n",
       "      <td>866</td>\n",
       "      <td>8.433433</td>\n",
       "    </tr>\n",
       "    <tr>\n",
       "      <th>6</th>\n",
       "      <td>7</td>\n",
       "      <td>Ahmadabad</td>\n",
       "      <td>8253226</td>\n",
       "      <td>2.40</td>\n",
       "      <td>96</td>\n",
       "      <td>1.163182</td>\n",
       "    </tr>\n",
       "    <tr>\n",
       "      <th>7</th>\n",
       "      <td>8</td>\n",
       "      <td>Surat</td>\n",
       "      <td>7489742</td>\n",
       "      <td>4.25</td>\n",
       "      <td>18</td>\n",
       "      <td>0.240329</td>\n",
       "    </tr>\n",
       "    <tr>\n",
       "      <th>8</th>\n",
       "      <td>9</td>\n",
       "      <td>Pune</td>\n",
       "      <td>6807984</td>\n",
       "      <td>2.69</td>\n",
       "      <td>819</td>\n",
       "      <td>12.029993</td>\n",
       "    </tr>\n",
       "    <tr>\n",
       "      <th>9</th>\n",
       "      <td>10</td>\n",
       "      <td>Jaipur</td>\n",
       "      <td>4007505</td>\n",
       "      <td>2.51</td>\n",
       "      <td>35</td>\n",
       "      <td>0.873361</td>\n",
       "    </tr>\n",
       "  </tbody>\n",
       "</table>\n",
       "</div>"
      ],
      "text/plain": [
       "   Rank       City  Population  Growth  Count  Jobs/1LCapita\n",
       "0     1      Delhi    31181377    2.94    277       0.888351\n",
       "1     2    Mumbai     20667655    1.26    918       4.441723\n",
       "2     3   Kolkata     14974073    0.84     78       0.520900\n",
       "3     4  Bangalore    12764935    3.56   1005       7.873131\n",
       "4     5   Chennai     11235018    2.41    540       4.806401\n",
       "5     6  Hyderabad    10268653    2.64    866       8.433433\n",
       "6     7  Ahmadabad     8253226    2.40     96       1.163182\n",
       "7     8      Surat     7489742    4.25     18       0.240329\n",
       "8     9      Pune      6807984    2.69    819      12.029993\n",
       "9    10     Jaipur     4007505    2.51     35       0.873361"
      ]
     },
     "execution_count": 16,
     "metadata": {},
     "output_type": "execute_result"
    }
   ],
   "source": [
    "TopTen = Cities[0:10]\n",
    "rec = []\n",
    "for i in range(len(TopTen)):\n",
    "    rec.append(Cities['Count'][i] / Cities['Population'][i] *100000)\n",
    "TopTen['Jobs/1LCapita'] = rec\n",
    "TopTen"
   ]
  },
  {
   "cell_type": "markdown",
   "metadata": {},
   "source": [
    "It is fairly clear that Mumbai, Bangalore, Hyderabad and Pune are leaders in the Industry. Followed by Chennai and then Delhi.\n",
    "But are these jobs correlated to the population of the city? \n",
    "Or do some cities have a higher ratio of Data Analyst jobs to its population. Let us check."
   ]
  },
  {
   "cell_type": "code",
   "execution_count": 17,
   "metadata": {},
   "outputs": [
    {
     "data": {
      "text/plain": [
       "<AxesSubplot:xlabel='Population', ylabel='Count'>"
      ]
     },
     "execution_count": 17,
     "metadata": {},
     "output_type": "execute_result"
    },
    {
     "data": {
      "image/png": "[encoded data removed]",
      "text/plain": [
       "<Figure size 432x288 with 1 Axes>"
      ]
     },
     "metadata": {
      "needs_background": "light"
     },
     "output_type": "display_data"
    }
   ],
   "source": [
    "sns.lineplot(data=TopTen,x='Population',y='Count')"
   ]
  },
  {
   "cell_type": "markdown",
   "metadata": {},
   "source": [
    "There is clearly no correlation between population and Job Postings. Which Clearly indicates Cities having differently leveled preferences to Data Analyst Jobs."
   ]
  },
  {
   "cell_type": "code",
   "execution_count": 18,
   "metadata": {},
   "outputs": [
    {
     "data": {
      "text/html": [
       "<div>\n",
       "<style scoped>\n",
       "    .dataframe tbody tr th:only-of-type {\n",
       "        vertical-align: middle;\n",
       "    }\n",
       "\n",
       "    .dataframe tbody tr th {\n",
       "        vertical-align: top;\n",
       "    }\n",
       "\n",
       "    .dataframe thead th {\n",
       "        text-align: right;\n",
       "    }\n",
       "</style>\n",
       "<table border=\"1\" class=\"dataframe\">\n",
       "  <thead>\n",
       "    <tr style=\"text-align: right;\">\n",
       "      <th></th>\n",
       "      <th>Rank</th>\n",
       "      <th>City</th>\n",
       "      <th>Population</th>\n",
       "      <th>Growth</th>\n",
       "      <th>Count</th>\n",
       "      <th>Jobs/1LCapita</th>\n",
       "    </tr>\n",
       "  </thead>\n",
       "  <tbody>\n",
       "    <tr>\n",
       "      <th>8</th>\n",
       "      <td>9</td>\n",
       "      <td>Pune</td>\n",
       "      <td>6807984</td>\n",
       "      <td>2.69</td>\n",
       "      <td>819</td>\n",
       "      <td>12.029993</td>\n",
       "    </tr>\n",
       "    <tr>\n",
       "      <th>5</th>\n",
       "      <td>6</td>\n",
       "      <td>Hyderabad</td>\n",
       "      <td>10268653</td>\n",
       "      <td>2.64</td>\n",
       "      <td>866</td>\n",
       "      <td>8.433433</td>\n",
       "    </tr>\n",
       "    <tr>\n",
       "      <th>3</th>\n",
       "      <td>4</td>\n",
       "      <td>Bangalore</td>\n",
       "      <td>12764935</td>\n",
       "      <td>3.56</td>\n",
       "      <td>1005</td>\n",
       "      <td>7.873131</td>\n",
       "    </tr>\n",
       "    <tr>\n",
       "      <th>4</th>\n",
       "      <td>5</td>\n",
       "      <td>Chennai</td>\n",
       "      <td>11235018</td>\n",
       "      <td>2.41</td>\n",
       "      <td>540</td>\n",
       "      <td>4.806401</td>\n",
       "    </tr>\n",
       "    <tr>\n",
       "      <th>1</th>\n",
       "      <td>2</td>\n",
       "      <td>Mumbai</td>\n",
       "      <td>20667655</td>\n",
       "      <td>1.26</td>\n",
       "      <td>918</td>\n",
       "      <td>4.441723</td>\n",
       "    </tr>\n",
       "    <tr>\n",
       "      <th>6</th>\n",
       "      <td>7</td>\n",
       "      <td>Ahmadabad</td>\n",
       "      <td>8253226</td>\n",
       "      <td>2.40</td>\n",
       "      <td>96</td>\n",
       "      <td>1.163182</td>\n",
       "    </tr>\n",
       "    <tr>\n",
       "      <th>0</th>\n",
       "      <td>1</td>\n",
       "      <td>Delhi</td>\n",
       "      <td>31181377</td>\n",
       "      <td>2.94</td>\n",
       "      <td>277</td>\n",
       "      <td>0.888351</td>\n",
       "    </tr>\n",
       "    <tr>\n",
       "      <th>9</th>\n",
       "      <td>10</td>\n",
       "      <td>Jaipur</td>\n",
       "      <td>4007505</td>\n",
       "      <td>2.51</td>\n",
       "      <td>35</td>\n",
       "      <td>0.873361</td>\n",
       "    </tr>\n",
       "    <tr>\n",
       "      <th>2</th>\n",
       "      <td>3</td>\n",
       "      <td>Kolkata</td>\n",
       "      <td>14974073</td>\n",
       "      <td>0.84</td>\n",
       "      <td>78</td>\n",
       "      <td>0.520900</td>\n",
       "    </tr>\n",
       "    <tr>\n",
       "      <th>7</th>\n",
       "      <td>8</td>\n",
       "      <td>Surat</td>\n",
       "      <td>7489742</td>\n",
       "      <td>4.25</td>\n",
       "      <td>18</td>\n",
       "      <td>0.240329</td>\n",
       "    </tr>\n",
       "  </tbody>\n",
       "</table>\n",
       "</div>"
      ],
      "text/plain": [
       "   Rank       City  Population  Growth  Count  Jobs/1LCapita\n",
       "8     9      Pune      6807984    2.69    819      12.029993\n",
       "5     6  Hyderabad    10268653    2.64    866       8.433433\n",
       "3     4  Bangalore    12764935    3.56   1005       7.873131\n",
       "4     5   Chennai     11235018    2.41    540       4.806401\n",
       "1     2    Mumbai     20667655    1.26    918       4.441723\n",
       "6     7  Ahmadabad     8253226    2.40     96       1.163182\n",
       "0     1      Delhi    31181377    2.94    277       0.888351\n",
       "9    10     Jaipur     4007505    2.51     35       0.873361\n",
       "2     3   Kolkata     14974073    0.84     78       0.520900\n",
       "7     8      Surat     7489742    4.25     18       0.240329"
      ]
     },
     "execution_count": 18,
     "metadata": {},
     "output_type": "execute_result"
    }
   ],
   "source": [
    "TopTen = TopTen.sort_values('Jobs/1LCapita',ascending = False)\n",
    "TopTen"
   ]
  },
  {
   "cell_type": "markdown",
   "metadata": {},
   "source": [
    "We Now have a different Image. Let us plot this in a bar plot"
   ]
  },
  {
   "cell_type": "code",
   "execution_count": 19,
   "metadata": {
    "scrolled": true
   },
   "outputs": [
    {
     "data": {
      "image/png": "[encoded data removed]",
      "text/plain": [
       "<Figure size 360x360 with 1 Axes>"
      ]
     },
     "metadata": {
      "needs_background": "light"
     },
     "output_type": "display_data"
    }
   ],
   "source": [
    "ax = sns.displot(data=TopTen,x='City',y='Jobs/1LCapita')\n",
    "bx = ax.set_xticklabels(labels=TopTen['City'].unique(),rotation=45)"
   ]
  },
  {
   "cell_type": "markdown",
   "metadata": {},
   "source": [
    "Here we see a different picture. The concentration of Data Analyst Jobs with respect to population is highest in Pune followed by Hyderabad despite Bangalore and Mumbai showing the maximum count of jobs. This indicates an industry concentration in the economy of the city.\n",
    "Assuming an equal distribution of skillset among people in the cities, this indicates the competition to get a job in Pune is lesser. But in all practicality, we cannot claim this as the skillset of people depends on the insitutes in the city, the culture and even migration to the city by profesionals alters this fabric."
   ]
  },
  {
   "cell_type": "markdown",
   "metadata": {},
   "source": [
    "Let us now forecast the amount of jobs that will be available in each city one year from now assuming jobs grow equally proportionate to the population."
   ]
  },
  {
   "cell_type": "code",
   "execution_count": 20,
   "metadata": {},
   "outputs": [
    {
     "data": {
      "text/html": [
       "<div>\n",
       "<style scoped>\n",
       "    .dataframe tbody tr th:only-of-type {\n",
       "        vertical-align: middle;\n",
       "    }\n",
       "\n",
       "    .dataframe tbody tr th {\n",
       "        vertical-align: top;\n",
       "    }\n",
       "\n",
       "    .dataframe thead th {\n",
       "        text-align: right;\n",
       "    }\n",
       "</style>\n",
       "<table border=\"1\" class=\"dataframe\">\n",
       "  <thead>\n",
       "    <tr style=\"text-align: right;\">\n",
       "      <th></th>\n",
       "      <th>Rank</th>\n",
       "      <th>City</th>\n",
       "      <th>Population</th>\n",
       "      <th>Growth</th>\n",
       "      <th>Count</th>\n",
       "      <th>Jobs/1LCapita</th>\n",
       "      <th>Jobs Forecast</th>\n",
       "    </tr>\n",
       "  </thead>\n",
       "  <tbody>\n",
       "    <tr>\n",
       "      <th>4</th>\n",
       "      <td>5</td>\n",
       "      <td>Chennai</td>\n",
       "      <td>11235018</td>\n",
       "      <td>2.41</td>\n",
       "      <td>540</td>\n",
       "      <td>4.806401</td>\n",
       "      <td>1040</td>\n",
       "    </tr>\n",
       "    <tr>\n",
       "      <th>5</th>\n",
       "      <td>6</td>\n",
       "      <td>Hyderabad</td>\n",
       "      <td>10268653</td>\n",
       "      <td>2.64</td>\n",
       "      <td>866</td>\n",
       "      <td>8.433433</td>\n",
       "      <td>929</td>\n",
       "    </tr>\n",
       "    <tr>\n",
       "      <th>6</th>\n",
       "      <td>7</td>\n",
       "      <td>Ahmadabad</td>\n",
       "      <td>8253226</td>\n",
       "      <td>2.40</td>\n",
       "      <td>96</td>\n",
       "      <td>1.163182</td>\n",
       "      <td>888</td>\n",
       "    </tr>\n",
       "    <tr>\n",
       "      <th>2</th>\n",
       "      <td>3</td>\n",
       "      <td>Kolkata</td>\n",
       "      <td>14974073</td>\n",
       "      <td>0.84</td>\n",
       "      <td>78</td>\n",
       "      <td>0.520900</td>\n",
       "      <td>841</td>\n",
       "    </tr>\n",
       "    <tr>\n",
       "      <th>1</th>\n",
       "      <td>2</td>\n",
       "      <td>Mumbai</td>\n",
       "      <td>20667655</td>\n",
       "      <td>1.26</td>\n",
       "      <td>918</td>\n",
       "      <td>4.441723</td>\n",
       "      <td>553</td>\n",
       "    </tr>\n",
       "    <tr>\n",
       "      <th>8</th>\n",
       "      <td>9</td>\n",
       "      <td>Pune</td>\n",
       "      <td>6807984</td>\n",
       "      <td>2.69</td>\n",
       "      <td>819</td>\n",
       "      <td>12.029993</td>\n",
       "      <td>285</td>\n",
       "    </tr>\n",
       "    <tr>\n",
       "      <th>0</th>\n",
       "      <td>1</td>\n",
       "      <td>Delhi</td>\n",
       "      <td>31181377</td>\n",
       "      <td>2.94</td>\n",
       "      <td>277</td>\n",
       "      <td>0.888351</td>\n",
       "      <td>98</td>\n",
       "    </tr>\n",
       "    <tr>\n",
       "      <th>3</th>\n",
       "      <td>4</td>\n",
       "      <td>Bangalore</td>\n",
       "      <td>12764935</td>\n",
       "      <td>3.56</td>\n",
       "      <td>1005</td>\n",
       "      <td>7.873131</td>\n",
       "      <td>78</td>\n",
       "    </tr>\n",
       "    <tr>\n",
       "      <th>7</th>\n",
       "      <td>8</td>\n",
       "      <td>Surat</td>\n",
       "      <td>7489742</td>\n",
       "      <td>4.25</td>\n",
       "      <td>18</td>\n",
       "      <td>0.240329</td>\n",
       "      <td>35</td>\n",
       "    </tr>\n",
       "    <tr>\n",
       "      <th>9</th>\n",
       "      <td>10</td>\n",
       "      <td>Jaipur</td>\n",
       "      <td>4007505</td>\n",
       "      <td>2.51</td>\n",
       "      <td>35</td>\n",
       "      <td>0.873361</td>\n",
       "      <td>18</td>\n",
       "    </tr>\n",
       "  </tbody>\n",
       "</table>\n",
       "</div>"
      ],
      "text/plain": [
       "   Rank       City  Population  Growth  Count  Jobs/1LCapita  Jobs Forecast\n",
       "4     5   Chennai     11235018    2.41    540       4.806401           1040\n",
       "5     6  Hyderabad    10268653    2.64    866       8.433433            929\n",
       "6     7  Ahmadabad     8253226    2.40     96       1.163182            888\n",
       "2     3   Kolkata     14974073    0.84     78       0.520900            841\n",
       "1     2    Mumbai     20667655    1.26    918       4.441723            553\n",
       "8     9      Pune      6807984    2.69    819      12.029993            285\n",
       "0     1      Delhi    31181377    2.94    277       0.888351             98\n",
       "3     4  Bangalore    12764935    3.56   1005       7.873131             78\n",
       "7     8      Surat     7489742    4.25     18       0.240329             35\n",
       "9    10     Jaipur     4007505    2.51     35       0.873361             18"
      ]
     },
     "execution_count": 20,
     "metadata": {},
     "output_type": "execute_result"
    }
   ],
   "source": [
    "rec = []\n",
    "for i in range(len(TopTen)):\n",
    "    rec.append(int(TopTen['Count'][i] * ( 1 + (TopTen['Growth'][i]/100))))\n",
    "TopTen['Jobs Forecast'] = rec\n",
    "TopTen = TopTen.sort_values('Jobs Forecast',ascending=False)\n",
    "TopTen"
   ]
  },
  {
   "cell_type": "markdown",
   "metadata": {},
   "source": [
    "The trend seems to be constant as the growth percentage of most of the large cities seem to be at a lesser percentage."
   ]
  },
  {
   "cell_type": "markdown",
   "metadata": {},
   "source": [
    "Do smaller cities have greater population growth or do larger cities have greater poopulation growth? Lets see"
   ]
  },
  {
   "cell_type": "code",
   "execution_count": 21,
   "metadata": {},
   "outputs": [
    {
     "data": {
      "image/png": "[encoded data removed]",
      "text/plain": [
       "<Figure size 493.5x432 with 1 Axes>"
      ]
     },
     "metadata": {
      "needs_background": "light"
     },
     "output_type": "display_data"
    }
   ],
   "source": [
    "sns.relplot(x=\"Population\", y=\"Growth\", size=\"Count\",\n",
    "            sizes=(20, 2000), alpha=1,\n",
    "            height=6, data=Cities[:10])\n",
    "sns.set(rc={'figure.figsize':(12,50)})"
   ]
  },
  {
   "cell_type": "markdown",
   "metadata": {},
   "source": [
    "From the above plot there doesn't seem to be any pattern that we can observe to correlate growth, population and Data Analyst Job Count."
   ]
  },
  {
   "cell_type": "markdown",
   "metadata": {},
   "source": [
    "Now lets work on the salary data and see if the salary is higher in certain cities"
   ]
  },
  {
   "cell_type": "markdown",
   "metadata": {},
   "source": [
    "Let us Start by cleaning the Salary Data"
   ]
  },
  {
   "cell_type": "code",
   "execution_count": 22,
   "metadata": {},
   "outputs": [
    {
     "data": {
      "text/plain": [
       "array(['', '₹16,000 - ₹19,000 a month', '₹20,000 - ₹30,000 a month',\n",
       "       '₹5,000 a month', '₹3,50,000 - ₹5,00,000 a year',\n",
       "       '₹40,000 - ₹90,000 a month', '₹10,00,000 - ₹15,00,000 a year',\n",
       "       '₹60,000 - ₹70,000 a month', '₹50,000 - ₹75,000 a month',\n",
       "       '₹10,000 - ₹30,000 a month', '₹6,00,000 - ₹8,00,000 a year',\n",
       "       '₹25,000 - ₹45,000 a month', '₹1,50,000 - ₹6,00,000 a year',\n",
       "       '₹4,81,252 - ₹15,16,627 a year', '₹20,000 - ₹25,000 a month',\n",
       "       '₹32,000 a month', '₹3,75,000 - ₹6,00,000 a year',\n",
       "       '₹12,000 a month', '₹2,50,000 a year',\n",
       "       '₹21,00,000 - ₹25,00,000 a year', '₹8,00,000 - ₹12,00,000 a year',\n",
       "       '₹12,00,000 - ₹17,00,000 a year', '₹11,00,000 - ₹13,00,000 a year',\n",
       "       '₹6,00,000 a year', '₹5,00,000 - ₹10,00,000 a year',\n",
       "       '₹8,000 - ₹12,000 a month', '₹15,000 - ₹35,000 a month',\n",
       "       '₹2,00,000 - ₹3,00,000 a year', '₹6,00,000 - ₹10,00,000 a year',\n",
       "       '₹3,50,000 a year', '₹15,000 a month',\n",
       "       '₹2,50,000 - ₹4,00,000 a year', '₹50,000 - ₹60,000 a month',\n",
       "       '₹7,50,000 - ₹16,00,000 a year', '₹4,00,000 - ₹5,00,000 a year',\n",
       "       '₹27,50,000 - ₹32,50,000 a year', '₹10,00,000 a year',\n",
       "       '₹90,000 - ₹1,20,000 a month', '₹30,00,000 - ₹35,00,000 a year',\n",
       "       '₹12,00,000 - ₹25,00,000 a year', '₹5,00,000 - ₹7,00,000 a year',\n",
       "       '₹15,00,000 - ₹20,00,000 a year', '₹25,000 - ₹28,000 a month',\n",
       "       '₹25,000 - ₹35,000 a month', '₹15,000 - ₹20,000 a month',\n",
       "       '₹8,00,000 - ₹18,00,000 a year', '₹3,00,000 - ₹6,00,000 a year',\n",
       "       '₹10,00,000 - ₹25,00,000 a year', '₹10,00,000 - ₹14,50,000 a year',\n",
       "       '₹20,00,000 a year', '₹5,00,000 - ₹6,00,000 a month',\n",
       "       '₹50,000 - ₹90,000 a month', '₹4,00,000 - ₹6,00,000 a year',\n",
       "       '₹25,000 - ₹30,000 a month', '₹1,86,641 - ₹3,50,000 a year',\n",
       "       '₹3,000 a month', '₹15,00,000 a year', '₹18,000 a month',\n",
       "       '₹11,000 - ₹13,000 a month', '₹3,42,415 - ₹8,00,000 a year',\n",
       "       '₹12,00,000 - ₹18,00,000 a year', '₹6,10,297 - ₹16,40,512 a year',\n",
       "       '₹6,00,452 a year', '₹70,000 a month',\n",
       "       '₹31,373 - ₹1,46,566 a month', '₹4,00,000 - ₹5,50,000 a year',\n",
       "       '₹4,00,000 - ₹8,00,000 a year', '₹14,00,000 - ₹17,00,000 a year',\n",
       "       '₹80,000 a month', '₹13,00,000 - ₹24,00,000 a year',\n",
       "       '₹5,00,000 - ₹20,00,000 a year', '₹3,50,000 - ₹4,00,000 a year',\n",
       "       '₹10,00,000 - ₹27,00,000 a year', '₹10,000 - ₹12,000 a month',\n",
       "       '₹6,00,000 - ₹16,00,000 a year', '₹8,00,000 - ₹10,00,000 a year',\n",
       "       '₹9,010 - ₹21,942 a month', '₹7,00,000 - ₹17,00,000 a year',\n",
       "       '₹15,00,000 - ₹18,00,000 a year', '₹1,49,119 - ₹3,97,753 a year',\n",
       "       '₹2,40,000 - ₹6,00,000 a year', '₹2,40,000 - ₹3,60,000 a year',\n",
       "       '₹4,80,000 - ₹6,00,000 a year', '₹5,00,000 a year',\n",
       "       '₹7,00,000 - ₹13,00,000 a year', '₹8,283 a month',\n",
       "       '₹75,000 - ₹1,00,000 a month', '₹15,000 - ₹40,000 a month',\n",
       "       '₹8,00,000 - ₹14,00,000 a year', '₹10,000 - ₹15,000 a month',\n",
       "       '₹50,000 a month', '₹3,33,396 - ₹12,89,405 a year',\n",
       "       '₹7,00,000 a year', '₹6,96,000 - ₹9,24,000 a year',\n",
       "       '₹7,00,000 - ₹15,00,000 a year', '₹10,00,000 - ₹13,00,000 a year',\n",
       "       '₹3,00,000 - ₹7,00,000 a year', '₹20,000 - ₹70,000 a month',\n",
       "       '₹5,00,000 - ₹8,00,000 a year', '₹25,000 a month',\n",
       "       '₹14,95,047 a year', '₹2,00,000 - ₹5,00,000 a year',\n",
       "       '₹3,00,000 - ₹5,00,000 a year', '₹63,125 a year',\n",
       "       '₹12,000 - ₹22,000 a month', '₹5,000 - ₹10,000 a week',\n",
       "       '₹4,00,000 a year', '₹1,50,043 - ₹5,39,521 a year',\n",
       "       '₹11,361 - ₹25,820 a month', '₹19,714 - ₹45,000 a month',\n",
       "       '₹2,00,000 - ₹3,50,000 a year', '₹8,00,000 a year',\n",
       "       '₹16,467 - ₹51,000 a month', '₹15,000 - ₹30,000 a month',\n",
       "       '₹25,000 - ₹40,000 a month', '₹5,000 - ₹15,000 a month',\n",
       "       '₹5,000 - ₹8,000 a month', '₹3,99,497 - ₹15,73,362 a year',\n",
       "       '₹1,80,000 a year', '₹15,000 - ₹25,000 a month',\n",
       "       '₹28,000 - ₹32,000 a month', '₹30,000 - ₹60,000 a month',\n",
       "       '₹15,000 - ₹24,000 a month', '₹1,20,000 - ₹2,40,000 a year',\n",
       "       '₹12,000 - ₹34,492 a month', '₹20,507 - ₹90,010 a month',\n",
       "       '₹15,000 - ₹45,000 a month', '₹12,000 - ₹25,000 a month',\n",
       "       '₹500 - ₹1,500 an hour', '₹20,000 - ₹22,000 a month',\n",
       "       '₹4,70,000 - ₹6,50,000 a year', '₹10,000 - ₹25,000 a month',\n",
       "       '₹1,10,000 - ₹2,40,000 a year', '₹11,308 a month',\n",
       "       '₹30,680 - ₹61,351 a month', '₹13,00,000 - ₹15,00,000 a year',\n",
       "       '₹2,00,000 - ₹4,00,000 a year', '₹5,000 a week',\n",
       "       '₹2,00,000 - ₹7,00,000 a year', '₹82,000 a year',\n",
       "       '₹1,90,000 a month', '₹15,000 - ₹50,000 a month',\n",
       "       '₹10,000 - ₹35,000 a month', '₹25,000 - ₹50,000 a month',\n",
       "       '₹4,20,000 - ₹5,40,000 a year', '₹30,000 - ₹70,000 a month',\n",
       "       '₹10,000 a month'], dtype=object)"
      ]
     },
     "execution_count": 22,
     "metadata": {},
     "output_type": "execute_result"
    }
   ],
   "source": [
    "JobData['Salary'].unique()"
   ]
  },
  {
   "cell_type": "code",
   "execution_count": 23,
   "metadata": {},
   "outputs": [
    {
     "data": {
      "text/plain": [
       "array(['', 'month', 'year', 'week', 'hour'], dtype=object)"
      ]
     },
     "execution_count": 23,
     "metadata": {},
     "output_type": "execute_result"
    }
   ],
   "source": [
    "rec=[]\n",
    "for i in range(len(JobData)):\n",
    "    if 'month' in JobData['Salary'][i]:\n",
    "        rec.append('month')\n",
    "    elif 'year' in JobData['Salary'][i]:\n",
    "        rec.append('year')\n",
    "    elif 'hour' in JobData['Salary'][i]:\n",
    "        rec.append('hour')\n",
    "    elif 'week' in JobData['Salary'][i]:\n",
    "        rec.append('week')\n",
    "    else:\n",
    "        rec.append('')\n",
    "JobData['Salary Type'] = rec\n",
    "JobData['Salary Type'].unique()"
   ]
  },
  {
   "cell_type": "code",
   "execution_count": 24,
   "metadata": {},
   "outputs": [
    {
     "data": {
      "text/plain": [
       "array(['', '16000-19000', '20000-30000', '5000', '350000-500000',\n",
       "       '40000-90000', '1000000-1500000', '60000-70000', '50000-75000',\n",
       "       '10000-30000', '600000-800000', '25000-45000', '150000-600000',\n",
       "       '481252-1516627', '20000-25000', '32000', '375000-600000', '12000',\n",
       "       '250000', '2100000-2500000', '800000-1200000', '1200000-1700000',\n",
       "       '1100000-1300000', '600000', '500000-1000000', '8000-12000',\n",
       "       '15000-35000', '200000-300000', '600000-1000000', '350000',\n",
       "       '15000', '250000-400000', '50000-60000', '750000-1600000',\n",
       "       '400000-500000', '2750000-3250000', '1000000', '90000-120000',\n",
       "       '3000000-3500000', '1200000-2500000', '500000-700000',\n",
       "       '1500000-2000000', '25000-28000', '25000-35000', '15000-20000',\n",
       "       '800000-1800000', '300000-600000', '1000000-2500000',\n",
       "       '1000000-1450000', '2000000', '500000-600000', '50000-90000',\n",
       "       '400000-600000', '25000-30000', '186641-350000', '3000', '1500000',\n",
       "       '18000', '11000-13000', '342415-800000', '1200000-1800000',\n",
       "       '610297-1640512', '600452', '70000', '31373-146566',\n",
       "       '400000-550000', '400000-800000', '1400000-1700000', '80000',\n",
       "       '1300000-2400000', '500000-2000000', '350000-400000',\n",
       "       '1000000-2700000', '10000-12000', '600000-1600000',\n",
       "       '800000-1000000', '9010-21942', '700000-1700000',\n",
       "       '1500000-1800000', '149119-397753', '240000-600000',\n",
       "       '240000-360000', '480000-600000', '500000', '700000-1300000',\n",
       "       '8283', '75000-100000', '15000-40000', '800000-1400000',\n",
       "       '10000-15000', '50000', '333396-1289405', '700000',\n",
       "       '696000-924000', '700000-1500000', '1000000-1300000',\n",
       "       '300000-700000', '20000-70000', '500000-800000', '25000',\n",
       "       '1495047', '200000-500000', '300000-500000', '63125',\n",
       "       '12000-22000', '5000-10000', '400000', '150043-539521',\n",
       "       '11361-25820', '19714-45000', '200000-350000', '800000',\n",
       "       '16467-51000', '15000-30000', '25000-40000', '5000-15000',\n",
       "       '5000-8000', '399497-1573362', '180000', '15000-25000',\n",
       "       '28000-32000', '30000-60000', '15000-24000', '120000-240000',\n",
       "       '12000-34492', '20507-90010', '15000-45000', '12000-25000',\n",
       "       '500-1500', '20000-22000', '470000-650000', '10000-25000',\n",
       "       '110000-240000', '11308', '30680-61351', '1300000-1500000',\n",
       "       '200000-400000', '200000-700000', '82000', '190000', '15000-50000',\n",
       "       '10000-35000', '25000-50000', '420000-540000', '30000-70000',\n",
       "       '10000'], dtype=object)"
      ]
     },
     "execution_count": 24,
     "metadata": {},
     "output_type": "execute_result"
    }
   ],
   "source": [
    "JobData['Cleaned Salary'] = JobData['Salary'].str.replace(\",\",\"\").str.replace(\"a year\",\"\").str.replace(\"a month\",\"\").str.replace(\"a week\",\"\").str.replace(\"an hour\",\"\").str.replace(\"₹\",\"\").str.replace(\" \",\"\").str.strip()\n",
    "JobData['Cleaned Salary'].unique()"
   ]
  },
  {
   "cell_type": "code",
   "execution_count": 25,
   "metadata": {},
   "outputs": [
    {
     "data": {
      "text/plain": [
       "array([         nan, 1.750000e+04, 2.500000e+04, 5.000000e+03,\n",
       "       4.250000e+05, 6.500000e+04, 1.250000e+06, 6.250000e+04,\n",
       "       2.000000e+04, 7.000000e+05, 3.500000e+04, 3.750000e+05,\n",
       "       9.989390e+05, 2.250000e+04, 3.200000e+04, 4.875000e+05,\n",
       "       1.200000e+04, 2.500000e+05, 2.300000e+06, 1.000000e+06,\n",
       "       1.450000e+06, 1.200000e+06, 6.000000e+05, 7.500000e+05,\n",
       "       1.000000e+04, 8.000000e+05, 3.500000e+05, 1.500000e+04,\n",
       "       3.250000e+05, 5.500000e+04, 1.175000e+06, 4.500000e+05,\n",
       "       3.000000e+06, 1.050000e+05, 3.250000e+06, 1.850000e+06,\n",
       "       1.750000e+06, 2.650000e+04, 3.000000e+04, 1.300000e+06,\n",
       "       1.225000e+06, 2.000000e+06, 5.500000e+05, 7.000000e+04,\n",
       "       5.000000e+05, 2.750000e+04, 2.683200e+05, 3.000000e+03,\n",
       "       1.500000e+06, 1.800000e+04, 5.712070e+05, 1.125404e+06,\n",
       "       6.004520e+05, 8.896900e+04, 4.750000e+05, 1.550000e+06,\n",
       "       8.000000e+04, 1.100000e+04, 1.100000e+06, 9.000000e+05,\n",
       "       1.547600e+04, 1.650000e+06, 2.734360e+05, 4.200000e+05,\n",
       "       3.000000e+05, 5.400000e+05, 8.283000e+03, 8.750000e+04,\n",
       "       1.250000e+04, 5.000000e+04, 8.114000e+05, 8.100000e+05,\n",
       "       1.150000e+06, 4.500000e+04, 6.500000e+05, 1.495047e+06,\n",
       "       4.000000e+05, 6.312500e+04, 1.700000e+04, 7.500000e+03,\n",
       "       3.447820e+05, 1.859000e+04, 3.235700e+04, 2.750000e+05,\n",
       "       3.373300e+04, 3.250000e+04, 6.500000e+03, 9.864290e+05,\n",
       "       1.800000e+05, 1.950000e+04, 2.324600e+04, 5.525800e+04,\n",
       "       1.850000e+04, 1.000000e+03, 2.100000e+04, 5.600000e+05,\n",
       "       1.750000e+05, 1.130800e+04, 4.601500e+04, 1.400000e+06,\n",
       "       8.200000e+04, 1.900000e+05, 3.750000e+04, 4.800000e+05])"
      ]
     },
     "execution_count": 25,
     "metadata": {},
     "output_type": "execute_result"
    }
   ],
   "source": [
    "rec=[]\n",
    "for i in range(len(JobData)):\n",
    "    if JobData['Cleaned Salary'][i] == \"\":\n",
    "        rec.append(None)\n",
    "    elif '-' in JobData['Cleaned Salary'][i]:\n",
    "        temp = JobData['Cleaned Salary'][i].split(\"-\")\n",
    "        rec.append(     int(   (int(temp[0])+int(temp[1]) )  // 2    )   )\n",
    "    else:\n",
    "        rec.append(int(JobData['Cleaned Salary'][i]))\n",
    "JobData['Salary/Duration'] = rec\n",
    "JobData['Salary/Duration'].unique()\n",
    "        "
   ]
  },
  {
   "cell_type": "code",
   "execution_count": 26,
   "metadata": {},
   "outputs": [
    {
     "data": {
      "text/plain": [
       "array([     nan,  210000.,  300000.,   60000.,  425000.,  780000.,\n",
       "       1250000.,  750000.,  240000.,  700000.,  420000.,  375000.,\n",
       "        998939.,  270000.,  384000.,  487500.,  144000.,  250000.,\n",
       "       2300000., 1000000., 1450000., 1200000.,  600000.,  120000.,\n",
       "        800000.,  350000.,  180000.,  325000.,  660000., 1175000.,\n",
       "        450000., 3000000., 1260000., 3250000., 1850000., 1750000.,\n",
       "        318000.,  360000., 1300000., 1225000., 2000000., 6600000.,\n",
       "        840000.,  500000.,  330000.,  268320.,   36000., 1500000.,\n",
       "        216000.,  571207., 1125404.,  600452., 1067628.,  475000.,\n",
       "       1550000.,  960000.,  132000., 1100000.,  900000.,  185712.,\n",
       "       1650000.,  273436.,  540000.,   99396., 1050000.,  150000.,\n",
       "        811400.,  810000., 1150000.,  650000., 1495047.,  400000.,\n",
       "         63125.,  204000.,   30000.,  344782.,  223080.,  388284.,\n",
       "        275000.,  404796.,  390000.,   78000.,  986429.,  234000.,\n",
       "        278952.,  663096.,  222000.,  160000.,  252000.,  560000.,\n",
       "        175000.,  135696.,  552180., 1400000.,   20000.,   82000.,\n",
       "       2280000.,  480000.])"
      ]
     },
     "execution_count": 26,
     "metadata": {},
     "output_type": "execute_result"
    }
   ],
   "source": [
    "rec = []\n",
    "for i in range(len(JobData)):\n",
    "    if JobData['Salary Type'][i] == '':\n",
    "        rec.append(None)\n",
    "    elif JobData['Salary Type'][i] == 'year':\n",
    "        rec.append(JobData['Salary/Duration'][i])\n",
    "    elif JobData['Salary Type'][i] == 'month':\n",
    "        rec.append(JobData['Salary/Duration'][i] * 12)\n",
    "    elif JobData['Salary Type'][i] == 'week':\n",
    "        rec.append(JobData['Salary/Duration'][i] * 4)\n",
    "    else :\n",
    "        rec.append(JobData['Salary/Duration'][i] * 8 * 20)               #Assuming 20 working days a month and 8 hours a day\n",
    "JobData['Adjusted Salary'] = rec\n",
    "JobData['Adjusted Salary'].unique()"
   ]
  },
  {
   "cell_type": "markdown",
   "metadata": {},
   "source": [
    "Let us compare the salaries across the top 10 Cities"
   ]
  },
  {
   "cell_type": "code",
   "execution_count": 27,
   "metadata": {},
   "outputs": [
    {
     "name": "stdout",
     "output_type": "stream",
     "text": [
      "[ 671565 1061264 1700000  774058  647424  607678  438524  252559  487897\n",
      "  381428] [22 34  5 37  8 20  6 36  7]\n"
     ]
    }
   ],
   "source": [
    "rec = []\n",
    "reccount = []\n",
    "for i in range(len(TopTen)):\n",
    "    count = 0\n",
    "    total = 0\n",
    "    for j in range(len(JobData)):\n",
    "        if TopTen['City'][i] == JobData['City'][j]:\n",
    "            if JobData['Adjusted Salary'][j] > 0:\n",
    "                count += 1\n",
    "                total += JobData['Adjusted Salary'][j]\n",
    "    if count == 0 or total ==0:\n",
    "        rec.append(None)\n",
    "        reccount.append(0)\n",
    "    else:\n",
    "        rec.append(int(total/count))\n",
    "        reccount.append(count)\n",
    "TopTen['Average Salary'] = rec\n",
    "TopTen['Listings with Salary'] = reccount\n",
    "print(TopTen['Average Salary'].unique(),TopTen['Listings with Salary'].unique())"
   ]
  },
  {
   "cell_type": "code",
   "execution_count": 28,
   "metadata": {},
   "outputs": [
    {
     "data": {
      "text/html": [
       "<div>\n",
       "<style scoped>\n",
       "    .dataframe tbody tr th:only-of-type {\n",
       "        vertical-align: middle;\n",
       "    }\n",
       "\n",
       "    .dataframe tbody tr th {\n",
       "        vertical-align: top;\n",
       "    }\n",
       "\n",
       "    .dataframe thead th {\n",
       "        text-align: right;\n",
       "    }\n",
       "</style>\n",
       "<table border=\"1\" class=\"dataframe\">\n",
       "  <thead>\n",
       "    <tr style=\"text-align: right;\">\n",
       "      <th></th>\n",
       "      <th>Rank</th>\n",
       "      <th>City</th>\n",
       "      <th>Population</th>\n",
       "      <th>Growth</th>\n",
       "      <th>Count</th>\n",
       "      <th>Jobs/1LCapita</th>\n",
       "      <th>Jobs Forecast</th>\n",
       "      <th>Average Salary</th>\n",
       "      <th>Listings with Salary</th>\n",
       "    </tr>\n",
       "  </thead>\n",
       "  <tbody>\n",
       "    <tr>\n",
       "      <th>4</th>\n",
       "      <td>5</td>\n",
       "      <td>Chennai</td>\n",
       "      <td>11235018</td>\n",
       "      <td>2.41</td>\n",
       "      <td>540</td>\n",
       "      <td>4.806401</td>\n",
       "      <td>1040</td>\n",
       "      <td>671565</td>\n",
       "      <td>22</td>\n",
       "    </tr>\n",
       "    <tr>\n",
       "      <th>5</th>\n",
       "      <td>6</td>\n",
       "      <td>Hyderabad</td>\n",
       "      <td>10268653</td>\n",
       "      <td>2.64</td>\n",
       "      <td>866</td>\n",
       "      <td>8.433433</td>\n",
       "      <td>929</td>\n",
       "      <td>1061264</td>\n",
       "      <td>34</td>\n",
       "    </tr>\n",
       "    <tr>\n",
       "      <th>6</th>\n",
       "      <td>7</td>\n",
       "      <td>Ahmadabad</td>\n",
       "      <td>8253226</td>\n",
       "      <td>2.40</td>\n",
       "      <td>96</td>\n",
       "      <td>1.163182</td>\n",
       "      <td>888</td>\n",
       "      <td>1700000</td>\n",
       "      <td>5</td>\n",
       "    </tr>\n",
       "    <tr>\n",
       "      <th>2</th>\n",
       "      <td>3</td>\n",
       "      <td>Kolkata</td>\n",
       "      <td>14974073</td>\n",
       "      <td>0.84</td>\n",
       "      <td>78</td>\n",
       "      <td>0.520900</td>\n",
       "      <td>841</td>\n",
       "      <td>774058</td>\n",
       "      <td>37</td>\n",
       "    </tr>\n",
       "    <tr>\n",
       "      <th>1</th>\n",
       "      <td>2</td>\n",
       "      <td>Mumbai</td>\n",
       "      <td>20667655</td>\n",
       "      <td>1.26</td>\n",
       "      <td>918</td>\n",
       "      <td>4.441723</td>\n",
       "      <td>553</td>\n",
       "      <td>647424</td>\n",
       "      <td>8</td>\n",
       "    </tr>\n",
       "    <tr>\n",
       "      <th>8</th>\n",
       "      <td>9</td>\n",
       "      <td>Pune</td>\n",
       "      <td>6807984</td>\n",
       "      <td>2.69</td>\n",
       "      <td>819</td>\n",
       "      <td>12.029993</td>\n",
       "      <td>285</td>\n",
       "      <td>607678</td>\n",
       "      <td>20</td>\n",
       "    </tr>\n",
       "    <tr>\n",
       "      <th>0</th>\n",
       "      <td>1</td>\n",
       "      <td>Delhi</td>\n",
       "      <td>31181377</td>\n",
       "      <td>2.94</td>\n",
       "      <td>277</td>\n",
       "      <td>0.888351</td>\n",
       "      <td>98</td>\n",
       "      <td>438524</td>\n",
       "      <td>6</td>\n",
       "    </tr>\n",
       "    <tr>\n",
       "      <th>3</th>\n",
       "      <td>4</td>\n",
       "      <td>Bangalore</td>\n",
       "      <td>12764935</td>\n",
       "      <td>3.56</td>\n",
       "      <td>1005</td>\n",
       "      <td>7.873131</td>\n",
       "      <td>78</td>\n",
       "      <td>252559</td>\n",
       "      <td>5</td>\n",
       "    </tr>\n",
       "    <tr>\n",
       "      <th>7</th>\n",
       "      <td>8</td>\n",
       "      <td>Surat</td>\n",
       "      <td>7489742</td>\n",
       "      <td>4.25</td>\n",
       "      <td>18</td>\n",
       "      <td>0.240329</td>\n",
       "      <td>35</td>\n",
       "      <td>487897</td>\n",
       "      <td>36</td>\n",
       "    </tr>\n",
       "    <tr>\n",
       "      <th>9</th>\n",
       "      <td>10</td>\n",
       "      <td>Jaipur</td>\n",
       "      <td>4007505</td>\n",
       "      <td>2.51</td>\n",
       "      <td>35</td>\n",
       "      <td>0.873361</td>\n",
       "      <td>18</td>\n",
       "      <td>381428</td>\n",
       "      <td>7</td>\n",
       "    </tr>\n",
       "  </tbody>\n",
       "</table>\n",
       "</div>"
      ],
      "text/plain": [
       "   Rank       City  Population  Growth  Count  Jobs/1LCapita  Jobs Forecast  \\\n",
       "4     5   Chennai     11235018    2.41    540       4.806401           1040   \n",
       "5     6  Hyderabad    10268653    2.64    866       8.433433            929   \n",
       "6     7  Ahmadabad     8253226    2.40     96       1.163182            888   \n",
       "2     3   Kolkata     14974073    0.84     78       0.520900            841   \n",
       "1     2    Mumbai     20667655    1.26    918       4.441723            553   \n",
       "8     9      Pune      6807984    2.69    819      12.029993            285   \n",
       "0     1      Delhi    31181377    2.94    277       0.888351             98   \n",
       "3     4  Bangalore    12764935    3.56   1005       7.873131             78   \n",
       "7     8      Surat     7489742    4.25     18       0.240329             35   \n",
       "9    10     Jaipur     4007505    2.51     35       0.873361             18   \n",
       "\n",
       "   Average Salary  Listings with Salary  \n",
       "4          671565                    22  \n",
       "5         1061264                    34  \n",
       "6         1700000                     5  \n",
       "2          774058                    37  \n",
       "1          647424                     8  \n",
       "8          607678                    20  \n",
       "0          438524                     6  \n",
       "3          252559                     5  \n",
       "7          487897                    36  \n",
       "9          381428                     7  "
      ]
     },
     "execution_count": 28,
     "metadata": {},
     "output_type": "execute_result"
    }
   ],
   "source": [
    "TopTen"
   ]
  },
  {
   "cell_type": "code",
   "execution_count": 29,
   "metadata": {},
   "outputs": [
    {
     "data": {
      "text/plain": [
       "[Text(0, 0, 'Chennai '),\n",
       " Text(1, 0, 'Hyderabad'),\n",
       " Text(2, 0, 'Ahmadabad'),\n",
       " Text(3, 0, 'Kolkata '),\n",
       " Text(4, 0, 'Mumbai '),\n",
       " Text(5, 0, 'Pune '),\n",
       " Text(6, 0, 'Delhi'),\n",
       " Text(7, 0, 'Bangalore'),\n",
       " Text(8, 0, 'Surat'),\n",
       " Text(9, 0, 'Jaipur')]"
      ]
     },
     "execution_count": 29,
     "metadata": {},
     "output_type": "execute_result"
    },
    {
     "data": {
      "image/png": "[encoded data removed]",
      "text/plain": [
       "<Figure size 288x288 with 1 Axes>"
      ]
     },
     "metadata": {},
     "output_type": "display_data"
    }
   ],
   "source": [
    "sns.set(rc={'figure.figsize':(4,4)})\n",
    "ax = sns.barplot(data=TopTen,x='City',y='Average Salary')\n",
    "ax.set_xticklabels(labels=TopTen['City'].unique(),rotation=45)"
   ]
  },
  {
   "cell_type": "markdown",
   "metadata": {},
   "source": [
    "The plot seems to be rather inconsistent given Ahmadabad has almost 3 times the salary of the 2nd highest city. Let us investigate why this is the case."
   ]
  },
  {
   "cell_type": "code",
   "execution_count": 30,
   "metadata": {},
   "outputs": [
    {
     "data": {
      "text/plain": [
       "<seaborn.axisgrid.FacetGrid at 0x24489f91670>"
      ]
     },
     "execution_count": 30,
     "metadata": {},
     "output_type": "execute_result"
    },
    {
     "data": {
      "image/png": "[encoded data removed]",
      "text/plain": [
       "<Figure size 543.175x432 with 1 Axes>"
      ]
     },
     "metadata": {},
     "output_type": "display_data"
    }
   ],
   "source": [
    "sns.set(rc={'figure.figsize':(4,4)})\n",
    "ax = sns.relplot(x=\"City\", y=\"Average Salary\", size=\"Listings with Salary\",\n",
    "            sizes=(20, 2000), alpha=1,\n",
    "            height=6, data=TopTen)\n",
    "ax.set_xticklabels(labels=TopTen['City'].unique(),rotation=45)"
   ]
  },
  {
   "cell_type": "markdown",
   "metadata": {},
   "source": [
    "The plot indicates the number of job listings with salary posted is very less in Ahmadabad compared to other cities. Let us remove Cities with less than 10 Salary entries to get a better picture."
   ]
  },
  {
   "cell_type": "code",
   "execution_count": 31,
   "metadata": {},
   "outputs": [
    {
     "data": {
      "text/plain": [
       "[Text(0, 0, 'Chennai '),\n",
       " Text(1, 0, 'Hyderabad'),\n",
       " Text(2, 0, 'Kolkata '),\n",
       " Text(3, 0, 'Pune '),\n",
       " Text(4, 0, 'Surat')]"
      ]
     },
     "execution_count": 31,
     "metadata": {},
     "output_type": "execute_result"
    },
    {
     "data": {
      "image/png": "[encoded data removed]",
      "text/plain": [
       "<Figure size 288x288 with 1 Axes>"
      ]
     },
     "metadata": {},
     "output_type": "display_data"
    }
   ],
   "source": [
    "sns.set(rc={'figure.figsize':(4,4)})\n",
    "ax = sns.barplot(data=TopTen[TopTen['Listings with Salary']>10],x='City',y='Average Salary')\n",
    "ax.set_xticklabels(labels=TopTen[TopTen['Listings with Salary']>10]['City'].unique(),rotation=45)"
   ]
  },
  {
   "cell_type": "markdown",
   "metadata": {},
   "source": [
    "As 9/7/2022, we can see Pune Having the highest average salary. This indicates Pune is great place for Data Anlayst jobs with the highest pay as well as highest job abundance with respect to population."
   ]
  },
  {
   "cell_type": "markdown",
   "metadata": {},
   "source": [
    "Drawbacks of Analysis:<br>\n",
    "Source of population may not be accurate as population measures vary widely based of area of city and metropolitan area.<br>\n",
    "Data scraping process is too time consuming, looking to implement faster options in the next phase. "
   ]
  }
 ],
 "metadata": {
  "colab": {
   "collapsed_sections": [],
   "name": "Analysis of Job Opportunities in Indian Cities",
   "provenance": []
  },
  "kernelspec": {
   "display_name": "Python 3",
   "language": "python",
   "name": "python3"
  },
  "language_info": {
   "codemirror_mode": {
    "name": "ipython",
    "version": 3
   },
   "file_extension": ".py",
   "mimetype": "text/x-python",
   "name": "python",
   "nbconvert_exporter": "python",
   "pygments_lexer": "ipython3",
   "version": "3.8.8"
  }
 },
 "nbformat": 4,
 "nbformat_minor": 1
}
