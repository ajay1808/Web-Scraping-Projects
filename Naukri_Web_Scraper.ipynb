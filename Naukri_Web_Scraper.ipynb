{
 "cells": [
  {
   "cell_type": "markdown",
   "metadata": {},
   "source": [
    "### Naukri Web Scraper"
   ]
  },
  {
   "cell_type": "markdown",
   "metadata": {},
   "source": [
    "Ajay Kasturirangan\n",
    "09-July-2022"
   ]
  },
  {
   "cell_type": "markdown",
   "metadata": {},
   "source": [
    "#### Import Required Libraries"
   ]
  },
  {
   "cell_type": "code",
   "execution_count": 1,
   "metadata": {
    "id": "alGz9916i-0P"
   },
   "outputs": [],
   "source": [
    "import requests\n",
    "from selenium import webdriver\n",
    "from bs4 import BeautifulSoup\n",
    "import time\n",
    "import pandas as pd\n",
    "import math"
   ]
  },
  {
   "cell_type": "markdown",
   "metadata": {
    "id": "gyQZgS1_ACp0"
   },
   "source": [
    "#### Input"
   ]
  },
  {
   "cell_type": "code",
   "execution_count": 2,
   "metadata": {
    "id": "YU7H5nWQkMT6"
   },
   "outputs": [],
   "source": [
    "Job = \"Data Analyst\"\n",
    "Location = \"Chennai\""
   ]
  },
  {
   "cell_type": "markdown",
   "metadata": {
    "id": "wGEuajG1AruD"
   },
   "source": [
    "#### Identify Data Source"
   ]
  },
  {
   "cell_type": "code",
   "execution_count": 3,
   "metadata": {
    "colab": {
     "base_uri": "https://localhost:8080/",
     "height": 35
    },
    "id": "Fk6K3M3IATLa",
    "outputId": "f38f2b19-5b1f-42df-a5fa-0d4041c1cd1e"
   },
   "outputs": [
    {
     "data": {
      "text/plain": [
       "'https://www.naukri.com/Data-Analyst-jobs-in-Chennai'"
      ]
     },
     "execution_count": 3,
     "metadata": {},
     "output_type": "execute_result"
    }
   ],
   "source": [
    "#url = 'https://www.naukri.com/' + Job.replace(\" \",\"-\") + '-jobs-in-' + Location + '?k=' + Job.replace(\" \",\"%20\") + '&l=bangalore'\n",
    "#url\n",
    "url = 'https://www.naukri.com/'+ Job.replace(\" \",\"-\") + '-jobs-in-' + Location\n",
    "url"
   ]
  },
  {
   "cell_type": "markdown",
   "metadata": {
    "id": "yxD4gGM-BPlk"
   },
   "source": [
    "#### Importing Data"
   ]
  },
  {
   "cell_type": "code",
   "execution_count": 4,
   "metadata": {
    "colab": {
     "base_uri": "https://localhost:8080/",
     "height": 505
    },
    "id": "3gvLNqfPBS9u",
    "outputId": "94b51fd4-ae59-4552-c5f3-996f18a1963d"
   },
   "outputs": [],
   "source": [
    "def import_data(url):\n",
    "    page = requests.get(url)\n",
    "    driver = webdriver.Chrome('E:\\\\chromedriver_win32 (1)\\\\chromedriver.exe')\n",
    "    driver.get(url)\n",
    "    time.sleep(3)\n",
    "    soup = BeautifulSoup(driver.page_source,'html5lib')\n",
    "    driver.close()\n",
    "    return soup"
   ]
  },
  {
   "cell_type": "markdown",
   "metadata": {},
   "source": [
    "#### Page Counter"
   ]
  },
  {
   "cell_type": "code",
   "execution_count": 5,
   "metadata": {},
   "outputs": [],
   "source": [
    "def page_counter(soup):\n",
    "    results = soup.find(class_=\"sortAndH1Cont\")\n",
    "    display = results.find_all('span',class_=\"fleft grey-text mr-5 fs12\")\n",
    "    return math.ceil(int(display[0].text.split(\"of \")[1])/20)"
   ]
  },
  {
   "cell_type": "markdown",
   "metadata": {},
   "source": [
    "#### Extract Info"
   ]
  },
  {
   "cell_type": "code",
   "execution_count": 6,
   "metadata": {},
   "outputs": [],
   "source": [
    "def extract_info(postings,soup):\n",
    "    results = soup.find(class_='list')\n",
    "    jobs = results.find_all('article',class_='jobTuple bgWhite br4 mb-8')\n",
    "    for job in jobs:\n",
    "        URL = job.find('a',class_ = \"title fw500 ellipsis\").get('href')\n",
    "        title = job.find('a',class_ = \"title fw500 ellipsis\")\n",
    "        exp = job.find('span',class_ =\"ellipsis fleft fs12 lh16\").text\n",
    "        company = job.find('a',class_=\"subTitle ellipsis fleft\").text\n",
    "        SKILLS =  job.find_all('li',class_=\"fleft fs12 grey-text lh16 dot\")\n",
    "        skills = []\n",
    "        for skill in SKILLS:\n",
    "            skills.append(skill.text)\n",
    "        \n",
    "        salaries = job.find_all('li',class_=\"fleft grey-text br2 placeHolderLi salary\")\n",
    "        amounts = []\n",
    "        for salary in salaries:\n",
    "            amount = salary.find('span',class_ = 'ellipsis fleft fs12 lh16').text\n",
    "            if amount.upper() == \"NOT DISCLOSED\":\n",
    "                amounts = [amount]\n",
    "            else:\n",
    "                amounts = [int(i) for i in amount.replace(\"PA\",\"\").replace(\",\",\"\").replace(\".\",\"\").split(\"-\")]\n",
    "    \n",
    "        postings = postings.append({'URL':URL,'Title':title,'Exp':exp,'Company':company,'Skills':skills,'Salary':amounts},ignore_index=True)    \n",
    "                \n",
    "        \n",
    "    return postings   "
   ]
  },
  {
   "cell_type": "markdown",
   "metadata": {},
   "source": [
    "#### Main"
   ]
  },
  {
   "cell_type": "code",
   "execution_count": 7,
   "metadata": {},
   "outputs": [
    {
     "name": "stderr",
     "output_type": "stream",
     "text": [
      "<ipython-input-4-7c7641d5e5bf>:3: DeprecationWarning: executable_path has been deprecated, please pass in a Service object\n",
      "  driver = webdriver.Chrome('E:\\\\chromedriver_win32 (1)\\\\chromedriver.exe')\n"
     ]
    },
    {
     "name": "stdout",
     "output_type": "stream",
     "text": [
      "Total number of pages for Data Analyst in Chennai is 84\n",
      "Wall time: 44.2 s\n"
     ]
    }
   ],
   "source": [
    "%%time\n",
    "jobsearch = pd.DataFrame(columns=['URL','Title','Exp','Company','Skills','Salary'])\n",
    "soup1 = import_data(url)\n",
    "pages = page_counter(soup1)\n",
    "print('Total number of pages for {} in {} is {}'.format(Job,Location,pages))"
   ]
  },
  {
   "cell_type": "markdown",
   "metadata": {},
   "source": [
    "Scraping only 10 pages for faster implementation"
   ]
  },
  {
   "cell_type": "code",
   "execution_count": 8,
   "metadata": {},
   "outputs": [
    {
     "name": "stderr",
     "output_type": "stream",
     "text": [
      "<ipython-input-4-7c7641d5e5bf>:3: DeprecationWarning: executable_path has been deprecated, please pass in a Service object\n",
      "  driver = webdriver.Chrome('E:\\\\chromedriver_win32 (1)\\\\chromedriver.exe')\n"
     ]
    },
    {
     "name": "stdout",
     "output_type": "stream",
     "text": [
      "Wall time: 7min 31s\n"
     ]
    }
   ],
   "source": [
    "%%time\n",
    "pages = 10\n",
    "for i in range(1,pages+1):\n",
    "    page_url = url+\"-\"+ str(i)\n",
    "    page_soup = import_data(page_url)\n",
    "    jobsearch = extract_info(jobsearch,page_soup)\n",
    "jobsearch.to_csv('jobsearch.csv')"
   ]
  },
  {
   "cell_type": "code",
   "execution_count": 9,
   "metadata": {},
   "outputs": [
    {
     "data": {
      "text/html": [
       "<div>\n",
       "<style scoped>\n",
       "    .dataframe tbody tr th:only-of-type {\n",
       "        vertical-align: middle;\n",
       "    }\n",
       "\n",
       "    .dataframe tbody tr th {\n",
       "        vertical-align: top;\n",
       "    }\n",
       "\n",
       "    .dataframe thead th {\n",
       "        text-align: right;\n",
       "    }\n",
       "</style>\n",
       "<table border=\"1\" class=\"dataframe\">\n",
       "  <thead>\n",
       "    <tr style=\"text-align: right;\">\n",
       "      <th></th>\n",
       "      <th>URL</th>\n",
       "      <th>Title</th>\n",
       "      <th>Exp</th>\n",
       "      <th>Company</th>\n",
       "      <th>Skills</th>\n",
       "      <th>Salary</th>\n",
       "    </tr>\n",
       "  </thead>\n",
       "  <tbody>\n",
       "    <tr>\n",
       "      <th>0</th>\n",
       "      <td>https://www.naukri.com/job-listings-data-analy...</td>\n",
       "      <td>[Data Analyst - CRM Platform]</td>\n",
       "      <td>1-6 Yrs</td>\n",
       "      <td>Artech infosystem</td>\n",
       "      <td>[MDM, Analytics, CRM, Java, communication, Sal...</td>\n",
       "      <td>[Not disclosed]</td>\n",
       "    </tr>\n",
       "    <tr>\n",
       "      <th>1</th>\n",
       "      <td>https://www.naukri.com/job-listings-sr-associa...</td>\n",
       "      <td>[Sr. Associate - Data Analyst]</td>\n",
       "      <td>1-2 Yrs</td>\n",
       "      <td>Sutherland</td>\n",
       "      <td>[Advance excel, Data Management, Power Bi, VLO...</td>\n",
       "      <td>[Not disclosed]</td>\n",
       "    </tr>\n",
       "    <tr>\n",
       "      <th>2</th>\n",
       "      <td>https://www.naukri.com/job-listings-hiring-dat...</td>\n",
       "      <td>[Hiring Data Analysts - Virtusa]</td>\n",
       "      <td>4-8 Yrs</td>\n",
       "      <td>Virtusa</td>\n",
       "      <td>[Pytorch, AI, PowerBI, statistical analysis, S...</td>\n",
       "      <td>[Not disclosed]</td>\n",
       "    </tr>\n",
       "    <tr>\n",
       "      <th>3</th>\n",
       "      <td>https://www.naukri.com/job-listings-data-analy...</td>\n",
       "      <td>[Data Analyst - Python/Artificial Intelligence]</td>\n",
       "      <td>0-2 Yrs</td>\n",
       "      <td>iMindYourBusiness</td>\n",
       "      <td>[Data Science, STEM, word, SQL server, VBA, Ad...</td>\n",
       "      <td>[Not disclosed]</td>\n",
       "    </tr>\n",
       "    <tr>\n",
       "      <th>4</th>\n",
       "      <td>https://www.naukri.com/job-listings-business-a...</td>\n",
       "      <td>[Business Analyst / Data Analyst]</td>\n",
       "      <td>5-10 Yrs</td>\n",
       "      <td>cliqhr.com</td>\n",
       "      <td>[data analysis, data quality, Business Analyst...</td>\n",
       "      <td>[Not disclosed]</td>\n",
       "    </tr>\n",
       "  </tbody>\n",
       "</table>\n",
       "</div>"
      ],
      "text/plain": [
       "                                                 URL  \\\n",
       "0  https://www.naukri.com/job-listings-data-analy...   \n",
       "1  https://www.naukri.com/job-listings-sr-associa...   \n",
       "2  https://www.naukri.com/job-listings-hiring-dat...   \n",
       "3  https://www.naukri.com/job-listings-data-analy...   \n",
       "4  https://www.naukri.com/job-listings-business-a...   \n",
       "\n",
       "                                             Title       Exp  \\\n",
       "0                    [Data Analyst - CRM Platform]   1-6 Yrs   \n",
       "1                   [Sr. Associate - Data Analyst]   1-2 Yrs   \n",
       "2                 [Hiring Data Analysts - Virtusa]   4-8 Yrs   \n",
       "3  [Data Analyst - Python/Artificial Intelligence]   0-2 Yrs   \n",
       "4                [Business Analyst / Data Analyst]  5-10 Yrs   \n",
       "\n",
       "             Company                                             Skills  \\\n",
       "0  Artech infosystem  [MDM, Analytics, CRM, Java, communication, Sal...   \n",
       "1         Sutherland  [Advance excel, Data Management, Power Bi, VLO...   \n",
       "2            Virtusa  [Pytorch, AI, PowerBI, statistical analysis, S...   \n",
       "3  iMindYourBusiness  [Data Science, STEM, word, SQL server, VBA, Ad...   \n",
       "4         cliqhr.com  [data analysis, data quality, Business Analyst...   \n",
       "\n",
       "            Salary  \n",
       "0  [Not disclosed]  \n",
       "1  [Not disclosed]  \n",
       "2  [Not disclosed]  \n",
       "3  [Not disclosed]  \n",
       "4  [Not disclosed]  "
      ]
     },
     "execution_count": 9,
     "metadata": {},
     "output_type": "execute_result"
    }
   ],
   "source": [
    "jobsearch.head()"
   ]
  },
  {
   "cell_type": "code",
   "execution_count": 10,
   "metadata": {},
   "outputs": [
    {
     "name": "stdout",
     "output_type": "stream",
     "text": [
      "<class 'pandas.core.frame.DataFrame'>\n",
      "RangeIndex: 199 entries, 0 to 198\n",
      "Data columns (total 6 columns):\n",
      " #   Column   Non-Null Count  Dtype \n",
      "---  ------   --------------  ----- \n",
      " 0   URL      199 non-null    object\n",
      " 1   Title    199 non-null    object\n",
      " 2   Exp      199 non-null    object\n",
      " 3   Company  199 non-null    object\n",
      " 4   Skills   199 non-null    object\n",
      " 5   Salary   199 non-null    object\n",
      "dtypes: object(6)\n",
      "memory usage: 9.5+ KB\n"
     ]
    }
   ],
   "source": [
    "jobsearch.info()"
   ]
  },
  {
   "cell_type": "code",
   "execution_count": 11,
   "metadata": {},
   "outputs": [],
   "source": [
    "jobsearch.to_csv('jobsearch.csv') "
   ]
  }
 ],
 "metadata": {
  "colab": {
   "collapsed_sections": [
    "_6RAizOL_jmQ"
   ],
   "name": "Naukri Web Scraper",
   "provenance": []
  },
  "kernelspec": {
   "display_name": "Python 3",
   "language": "python",
   "name": "python3"
  },
  "language_info": {
   "codemirror_mode": {
    "name": "ipython",
    "version": 3
   },
   "file_extension": ".py",
   "mimetype": "text/x-python",
   "name": "python",
   "nbconvert_exporter": "python",
   "pygments_lexer": "ipython3",
   "version": "3.8.8"
  }
 },
 "nbformat": 4,
 "nbformat_minor": 4
}
