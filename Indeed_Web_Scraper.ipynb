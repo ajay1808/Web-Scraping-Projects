{
  "nbformat": 4,
  "nbformat_minor": 0,
  "metadata": {
    "colab": {
      "name": "Indeed Web Scraper",
      "provenance": [],
      "collapsed_sections": [],
      "authorship_tag": "ABX9TyMU5ff++GC8Jm4/QJNXX9jo",
      "include_colab_link": true
    },
    "kernelspec": {
      "name": "python3",
      "display_name": "Python 3"
    },
    "language_info": {
      "name": "python"
    }
  },
  "cells": [
    {
      "cell_type": "markdown",
      "metadata": {
        "id": "view-in-github",
        "colab_type": "text"
      },
      "source": [
        "<a href=\"https://colab.research.google.com/github/ajay1808/Web-Scraping-Projects/blob/main/Indeed_Web_Scraper.ipynb\" target=\"_parent\"><img src=\"https://colab.research.google.com/assets/colab-badge.svg\" alt=\"Open In Colab\"/></a>"
      ]
    },
    {
      "cell_type": "markdown",
      "source": [
        "**Indeed WebScraper**"
      ],
      "metadata": {
        "id": "6277guXafMHT"
      }
    },
    {
      "cell_type": "markdown",
      "source": [
        "Author: Ajay Rangan Kasturirangan <br>\n",
        "[GitHub](https://github.com/ajay1808), [Twitter](https://twitter.com/rangan_ajay) "
      ],
      "metadata": {
        "id": "gF9H4uax4nES"
      }
    },
    {
      "cell_type": "markdown",
      "source": [
        "This code is a basic webscaper for [in.indeed.com](https://in.indeed.com/) which is a job search portal in India. "
      ],
      "metadata": {
        "id": "TJlyc-dIf8MS"
      }
    },
    {
      "cell_type": "markdown",
      "source": [
        "I'm going to use BeautifulSoup to parse the webpage and scrape data. The data can further be used to create reports on the same.\n",
        "The next step of the project will be to create a dashboard comparing various indian cities on the basis of Data Analyst job availability and salary.<br>\n",
        "For learning, refer to this [YouTube Video](https://www.youtube.com/watch?v=eN_3d4JrL_w&t=702s) by [Israel Dryer](https://github.com/israel-dryer)"
      ],
      "metadata": {
        "id": "bNgs8FvDkoPN"
      }
    },
    {
      "cell_type": "markdown",
      "source": [
        "Let's import the required libraries"
      ],
      "metadata": {
        "id": "t5HM9GnTl4ry"
      }
    },
    {
      "cell_type": "code",
      "execution_count": 1,
      "metadata": {
        "id": "RRQ2-ScdfB9s"
      },
      "outputs": [],
      "source": [
        "from bs4 import BeautifulSoup\n",
        "import requests\n",
        "import csv\n",
        "import pandas as pd\n",
        "from time import sleep\n",
        "from random import randint\n",
        "from datetime import datetime\n"
      ]
    },
    {
      "cell_type": "markdown",
      "source": [
        "The following are 3 functions get_url , get_record and main.\n",
        "\n",
        "The functions for each are as follows:<br>\n",
        "**get_url**: Generate a url based on the City and Job position you want to check on [https://in.indeed.com/](in.indeed.com)<br>\n",
        "**get_record**: This pulls each job posting individually from the webpage. Which will represent each row in our dataset.<br>\n",
        "**main**: This is function to call the other two functions as well as write the data into a csv file which can be downloaded as well as pushed into a google sheet.\n"
      ],
      "metadata": {
        "id": "2G4uu844l-WD"
      }
    },
    {
      "cell_type": "code",
      "source": [
        "def get_url(position, location):\n",
        "        position = position.replace(\" \",\"%20\")\n",
        "        location = location.replace(\" \",\"%20\")\n",
        "        template = 'https://in.indeed.com/jobs?q={}&l={}'\n",
        "        url = template.format(position, location)\n",
        "        return url\n",
        "\n",
        "def get_record(card):\n",
        "    '''Extract job date from a single record '''\n",
        "    try:\n",
        "        job_title = card.find('h2', 'jobTitle').text.strip()\n",
        "    except AttributeError:\n",
        "        job_title = ''\n",
        "    try:\n",
        "        company = card.find('span', 'companyName').text.strip()\n",
        "    except AttributeError:\n",
        "        company = ''\n",
        "    try:\n",
        "        location = card.find('div', 'companyLocation').text.strip()\n",
        "    except AttributeError:\n",
        "        location = ''\n",
        "    try:\n",
        "        job_summary = card.find('div', 'job-snippet').text.strip()\n",
        "    except AttributeError:\n",
        "        job_summary = ''\n",
        "    try:\n",
        "        post_date = card.find('span', 'date').text.strip()\n",
        "        post_date = post_date[6:]\n",
        "    except AttributeError:\n",
        "        post_date = ''\n",
        "    try:\n",
        "        salary = card.find('div', 'attribute_snippet').text.strip()\n",
        "    except AttributeError:\n",
        "        salary = ''\n",
        "    \n",
        "    #extract_date = datetime.today().strftime('%Y-%m-%d')\n",
        "    #job_url = 'https://www.in.indeed.com' + atag.get('href')\n",
        "    \n",
        "    return (job_title, company, location, job_summary, salary, post_date)\n",
        "\n",
        "def main(position, location):\n",
        "    records = []  \n",
        "    count = 0\n",
        "    url = get_url(position, location)\n",
        "    purl = url \n",
        "    while True:\n",
        "        count += 1\n",
        "        response = requests.get(url)\n",
        "        soup = BeautifulSoup(response.text, 'html.parser')\n",
        "        cards = soup.find_all('div', 'job_seen_beacon')\n",
        "\n",
        "\n",
        "        for card in cards:\n",
        "            record = get_record(card)\n",
        "            records.append(record)\n",
        "        try:\n",
        "            url = 'https://in.indeed.com' + soup.find('a', {'aria-label': 'Next'}).get('href')\n",
        "            delay = randint(1, 10)\n",
        "            sleep(delay)\n",
        "        except AttributeError:\n",
        "            print(\"Number of web pages surfed: \",count)\n",
        "            print(\"End of Results\")\n",
        "            break\n",
        "    MyColumns = ['Job Title', 'Company', 'Location', 'Summary', 'Salary', 'Posted Date']\n",
        "    with open('results.csv', 'w', newline='', encoding='utf-8') as f:\n",
        "        writer = csv.writer(f)\n",
        "        writer.writerow(MyColumns)\n",
        "        writer.writerows(records)\n",
        "    \n",
        "    dataset = pd.DataFrame(data = records)\n",
        "    dataset.columns = MyColumns"
      ],
      "metadata": {
        "id": "0SRruzadJCAt"
      },
      "execution_count": 2,
      "outputs": []
    },
    {
      "cell_type": "markdown",
      "source": [
        "Now lets call our main function by using the format <br>\n",
        "**main(Job Position , Location )**\n",
        "Please note, this webpage is exclusive to the Indian Job Market. \n",
        "Indeed does have services in various other countries under a different website."
      ],
      "metadata": {
        "id": "-T6BV6I_nUBe"
      }
    },
    {
      "cell_type": "code",
      "source": [
        "main('Data Analyst','Chennai')"
      ],
      "metadata": {
        "id": "0c2_SMaEnnsZ",
        "colab": {
          "base_uri": "https://localhost:8080/"
        },
        "outputId": "9b731a5d-ab95-4b9e-f6d1-19258d81e522"
      },
      "execution_count": 3,
      "outputs": [
        {
          "output_type": "stream",
          "name": "stdout",
          "text": [
            "Number of web pages surfed:  36\n",
            "End of Results\n"
          ]
        }
      ]
    },
    {
      "cell_type": "code",
      "source": [
        "MyData = pd.read_csv('results.csv')\n",
        "MyData.head(10)"
      ],
      "metadata": {
        "colab": {
          "base_uri": "https://localhost:8080/",
          "height": 598
        },
        "id": "dgCkCvzVBvxf",
        "outputId": "fefcccd4-8a56-4e85-ae03-8082fce79173"
      },
      "execution_count": 4,
      "outputs": [
        {
          "output_type": "execute_result",
          "data": {
            "text/plain": [
              "                                           Job Title             Company  \\\n",
              "0                            newData Quality Analyst  Standard Chartered   \n",
              "1  newData Quality Analyst - C10 - Chennai (R2103...                Citi   \n",
              "2                   Associate Analyst - Data Analyst         AstraZeneca   \n",
              "3                    Markets Data Management Analyst     NatWest Markets   \n",
              "4                      newR&A CO Data and MI Analyst               Shell   \n",
              "5                                  newData Analyst 2              PayPal   \n",
              "6                                       Data Analyst      Hitachi Energy   \n",
              "7                 Data Analytics Intmd Analyst - C11                Citi   \n",
              "8                         newData Operations Analyst        Athenahealth   \n",
              "9                                       Data Analyst          Freshworks   \n",
              "\n",
              "              Location                                            Summary  \\\n",
              "0  Chennai, Tamil Nadu  Various data domain owners and data quality te...   \n",
              "1  Chennai, Tamil Nadu  Implement data quality strategies to effective...   \n",
              "2  Chennai, Tamil Nadu  Experience in translating requirements into fi...   \n",
              "3  Chennai, Tamil Nadu  Acting as a point of contact for static data q...   \n",
              "4  Chennai, Tamil Nadu  This role is ideal for a “data junkie” who fin...   \n",
              "5  Chennai, Tamil Nadu  Analytics professional with a proven track rec...   \n",
              "6  Chennai, Tamil Nadu  Display technical expertise in data analytics ...   \n",
              "7  Chennai, Tamil Nadu  Applies professional judgment when interpretin...   \n",
              "8  Chennai, Tamil Nadu  Your job will be to improve quality practition...   \n",
              "9  Chennai, Tamil Nadu  Create and maintain rich interactive visualiza...   \n",
              "\n",
              "  Salary   Posted Date  \n",
              "0    NaN   Just posted  \n",
              "1    NaN    7 days ago  \n",
              "2    NaN   23 days ago  \n",
              "3    NaN    9 days ago  \n",
              "4    NaN         Today  \n",
              "5    NaN         Today  \n",
              "6    NaN  30+ days ago  \n",
              "7    NaN   13 days ago  \n",
              "8    NaN    7 days ago  \n",
              "9    NaN   16 days ago  "
            ],
            "text/html": [
              "\n",
              "  <div id=\"df-c1684c03-b886-4dc2-bdcc-26828008656b\">\n",
              "    <div class=\"colab-df-container\">\n",
              "      <div>\n",
              "<style scoped>\n",
              "    .dataframe tbody tr th:only-of-type {\n",
              "        vertical-align: middle;\n",
              "    }\n",
              "\n",
              "    .dataframe tbody tr th {\n",
              "        vertical-align: top;\n",
              "    }\n",
              "\n",
              "    .dataframe thead th {\n",
              "        text-align: right;\n",
              "    }\n",
              "</style>\n",
              "<table border=\"1\" class=\"dataframe\">\n",
              "  <thead>\n",
              "    <tr style=\"text-align: right;\">\n",
              "      <th></th>\n",
              "      <th>Job Title</th>\n",
              "      <th>Company</th>\n",
              "      <th>Location</th>\n",
              "      <th>Summary</th>\n",
              "      <th>Salary</th>\n",
              "      <th>Posted Date</th>\n",
              "    </tr>\n",
              "  </thead>\n",
              "  <tbody>\n",
              "    <tr>\n",
              "      <th>0</th>\n",
              "      <td>newData Quality Analyst</td>\n",
              "      <td>Standard Chartered</td>\n",
              "      <td>Chennai, Tamil Nadu</td>\n",
              "      <td>Various data domain owners and data quality te...</td>\n",
              "      <td>NaN</td>\n",
              "      <td>Just posted</td>\n",
              "    </tr>\n",
              "    <tr>\n",
              "      <th>1</th>\n",
              "      <td>newData Quality Analyst - C10 - Chennai (R2103...</td>\n",
              "      <td>Citi</td>\n",
              "      <td>Chennai, Tamil Nadu</td>\n",
              "      <td>Implement data quality strategies to effective...</td>\n",
              "      <td>NaN</td>\n",
              "      <td>7 days ago</td>\n",
              "    </tr>\n",
              "    <tr>\n",
              "      <th>2</th>\n",
              "      <td>Associate Analyst - Data Analyst</td>\n",
              "      <td>AstraZeneca</td>\n",
              "      <td>Chennai, Tamil Nadu</td>\n",
              "      <td>Experience in translating requirements into fi...</td>\n",
              "      <td>NaN</td>\n",
              "      <td>23 days ago</td>\n",
              "    </tr>\n",
              "    <tr>\n",
              "      <th>3</th>\n",
              "      <td>Markets Data Management Analyst</td>\n",
              "      <td>NatWest Markets</td>\n",
              "      <td>Chennai, Tamil Nadu</td>\n",
              "      <td>Acting as a point of contact for static data q...</td>\n",
              "      <td>NaN</td>\n",
              "      <td>9 days ago</td>\n",
              "    </tr>\n",
              "    <tr>\n",
              "      <th>4</th>\n",
              "      <td>newR&amp;A CO Data and MI Analyst</td>\n",
              "      <td>Shell</td>\n",
              "      <td>Chennai, Tamil Nadu</td>\n",
              "      <td>This role is ideal for a “data junkie” who fin...</td>\n",
              "      <td>NaN</td>\n",
              "      <td>Today</td>\n",
              "    </tr>\n",
              "    <tr>\n",
              "      <th>5</th>\n",
              "      <td>newData Analyst 2</td>\n",
              "      <td>PayPal</td>\n",
              "      <td>Chennai, Tamil Nadu</td>\n",
              "      <td>Analytics professional with a proven track rec...</td>\n",
              "      <td>NaN</td>\n",
              "      <td>Today</td>\n",
              "    </tr>\n",
              "    <tr>\n",
              "      <th>6</th>\n",
              "      <td>Data Analyst</td>\n",
              "      <td>Hitachi Energy</td>\n",
              "      <td>Chennai, Tamil Nadu</td>\n",
              "      <td>Display technical expertise in data analytics ...</td>\n",
              "      <td>NaN</td>\n",
              "      <td>30+ days ago</td>\n",
              "    </tr>\n",
              "    <tr>\n",
              "      <th>7</th>\n",
              "      <td>Data Analytics Intmd Analyst - C11</td>\n",
              "      <td>Citi</td>\n",
              "      <td>Chennai, Tamil Nadu</td>\n",
              "      <td>Applies professional judgment when interpretin...</td>\n",
              "      <td>NaN</td>\n",
              "      <td>13 days ago</td>\n",
              "    </tr>\n",
              "    <tr>\n",
              "      <th>8</th>\n",
              "      <td>newData Operations Analyst</td>\n",
              "      <td>Athenahealth</td>\n",
              "      <td>Chennai, Tamil Nadu</td>\n",
              "      <td>Your job will be to improve quality practition...</td>\n",
              "      <td>NaN</td>\n",
              "      <td>7 days ago</td>\n",
              "    </tr>\n",
              "    <tr>\n",
              "      <th>9</th>\n",
              "      <td>Data Analyst</td>\n",
              "      <td>Freshworks</td>\n",
              "      <td>Chennai, Tamil Nadu</td>\n",
              "      <td>Create and maintain rich interactive visualiza...</td>\n",
              "      <td>NaN</td>\n",
              "      <td>16 days ago</td>\n",
              "    </tr>\n",
              "  </tbody>\n",
              "</table>\n",
              "</div>\n",
              "      <button class=\"colab-df-convert\" onclick=\"convertToInteractive('df-c1684c03-b886-4dc2-bdcc-26828008656b')\"\n",
              "              title=\"Convert this dataframe to an interactive table.\"\n",
              "              style=\"display:none;\">\n",
              "        \n",
              "  <svg xmlns=\"http://www.w3.org/2000/svg\" height=\"24px\"viewBox=\"0 0 24 24\"\n",
              "       width=\"24px\">\n",
              "    <path d=\"M0 0h24v24H0V0z\" fill=\"none\"/>\n",
              "    <path d=\"M18.56 5.44l.94 2.06.94-2.06 2.06-.94-2.06-.94-.94-2.06-.94 2.06-2.06.94zm-11 1L8.5 8.5l.94-2.06 2.06-.94-2.06-.94L8.5 2.5l-.94 2.06-2.06.94zm10 10l.94 2.06.94-2.06 2.06-.94-2.06-.94-.94-2.06-.94 2.06-2.06.94z\"/><path d=\"M17.41 7.96l-1.37-1.37c-.4-.4-.92-.59-1.43-.59-.52 0-1.04.2-1.43.59L10.3 9.45l-7.72 7.72c-.78.78-.78 2.05 0 2.83L4 21.41c.39.39.9.59 1.41.59.51 0 1.02-.2 1.41-.59l7.78-7.78 2.81-2.81c.8-.78.8-2.07 0-2.86zM5.41 20L4 18.59l7.72-7.72 1.47 1.35L5.41 20z\"/>\n",
              "  </svg>\n",
              "      </button>\n",
              "      \n",
              "  <style>\n",
              "    .colab-df-container {\n",
              "      display:flex;\n",
              "      flex-wrap:wrap;\n",
              "      gap: 12px;\n",
              "    }\n",
              "\n",
              "    .colab-df-convert {\n",
              "      background-color: #E8F0FE;\n",
              "      border: none;\n",
              "      border-radius: 50%;\n",
              "      cursor: pointer;\n",
              "      display: none;\n",
              "      fill: #1967D2;\n",
              "      height: 32px;\n",
              "      padding: 0 0 0 0;\n",
              "      width: 32px;\n",
              "    }\n",
              "\n",
              "    .colab-df-convert:hover {\n",
              "      background-color: #E2EBFA;\n",
              "      box-shadow: 0px 1px 2px rgba(60, 64, 67, 0.3), 0px 1px 3px 1px rgba(60, 64, 67, 0.15);\n",
              "      fill: #174EA6;\n",
              "    }\n",
              "\n",
              "    [theme=dark] .colab-df-convert {\n",
              "      background-color: #3B4455;\n",
              "      fill: #D2E3FC;\n",
              "    }\n",
              "\n",
              "    [theme=dark] .colab-df-convert:hover {\n",
              "      background-color: #434B5C;\n",
              "      box-shadow: 0px 1px 3px 1px rgba(0, 0, 0, 0.15);\n",
              "      filter: drop-shadow(0px 1px 2px rgba(0, 0, 0, 0.3));\n",
              "      fill: #FFFFFF;\n",
              "    }\n",
              "  </style>\n",
              "\n",
              "      <script>\n",
              "        const buttonEl =\n",
              "          document.querySelector('#df-c1684c03-b886-4dc2-bdcc-26828008656b button.colab-df-convert');\n",
              "        buttonEl.style.display =\n",
              "          google.colab.kernel.accessAllowed ? 'block' : 'none';\n",
              "\n",
              "        async function convertToInteractive(key) {\n",
              "          const element = document.querySelector('#df-c1684c03-b886-4dc2-bdcc-26828008656b');\n",
              "          const dataTable =\n",
              "            await google.colab.kernel.invokeFunction('convertToInteractive',\n",
              "                                                     [key], {});\n",
              "          if (!dataTable) return;\n",
              "\n",
              "          const docLinkHtml = 'Like what you see? Visit the ' +\n",
              "            '<a target=\"_blank\" href=https://colab.research.google.com/notebooks/data_table.ipynb>data table notebook</a>'\n",
              "            + ' to learn more about interactive tables.';\n",
              "          element.innerHTML = '';\n",
              "          dataTable['output_type'] = 'display_data';\n",
              "          await google.colab.output.renderOutput(dataTable, element);\n",
              "          const docLink = document.createElement('div');\n",
              "          docLink.innerHTML = docLinkHtml;\n",
              "          element.appendChild(docLink);\n",
              "        }\n",
              "      </script>\n",
              "    </div>\n",
              "  </div>\n",
              "  "
            ]
          },
          "metadata": {},
          "execution_count": 4
        }
      ]
    },
    {
      "cell_type": "markdown",
      "source": [
        "Now lets push this dataset into Google sheets"
      ],
      "metadata": {
        "id": "KKY4zjabXocG"
      }
    },
    {
      "cell_type": "markdown",
      "source": [
        "The following libraries need to be installed and imported for the same. There are multiple sources one can refer for the same.<br>\n",
        " The links are : [TDS](https://towardsdatascience.com/using-python-to-push-your-pandas-dataframe-to-google-sheets-de69422508f), [Medium](https://medium.com/craftsmenltd/from-csv-to-google-sheet-using-python-ef097cb014f9), [Google  API Documentation](https://developers.google.com/sheets/api), [df2gspread documentation](https://df2gspread.readthedocs.io/en/latest/overview.html)"
      ],
      "metadata": {
        "id": "bz2SLlYf3W85"
      }
    },
    {
      "cell_type": "code",
      "source": [
        "pip install gspread"
      ],
      "metadata": {
        "id": "cnIzsuylbRrB"
      },
      "execution_count": null,
      "outputs": []
    },
    {
      "cell_type": "code",
      "source": [
        "pip install oauth2client"
      ],
      "metadata": {
        "id": "8KbmCxu0dpyt"
      },
      "execution_count": null,
      "outputs": []
    },
    {
      "cell_type": "code",
      "source": [
        "pip install df2gspread"
      ],
      "metadata": {
        "id": "vh6J8JwglFhu"
      },
      "execution_count": null,
      "outputs": []
    },
    {
      "cell_type": "code",
      "source": [
        "import gspread\n",
        "from df2gspread import df2gspread as d2g\n",
        "from oauth2client.service_account import ServiceAccountCredentials"
      ],
      "metadata": {
        "id": "CTvnFIEwlUXe"
      },
      "execution_count": 8,
      "outputs": []
    },
    {
      "cell_type": "code",
      "source": [
        "MyData.info()"
      ],
      "metadata": {
        "colab": {
          "base_uri": "https://localhost:8080/"
        },
        "id": "RE3FbJvaq3q3",
        "outputId": "1cc4889c-489d-413c-b55b-d7f37eaa484c"
      },
      "execution_count": 9,
      "outputs": [
        {
          "output_type": "stream",
          "name": "stdout",
          "text": [
            "<class 'pandas.core.frame.DataFrame'>\n",
            "RangeIndex: 533 entries, 0 to 532\n",
            "Data columns (total 6 columns):\n",
            " #   Column       Non-Null Count  Dtype \n",
            "---  ------       --------------  ----- \n",
            " 0   Job Title    533 non-null    object\n",
            " 1   Company      533 non-null    object\n",
            " 2   Location     533 non-null    object\n",
            " 3   Summary      533 non-null    object\n",
            " 4   Salary       32 non-null     object\n",
            " 5   Posted Date  533 non-null    object\n",
            "dtypes: object(6)\n",
            "memory usage: 25.1+ KB\n"
          ]
        }
      ]
    },
    {
      "cell_type": "code",
      "source": [
        "scope = ['https://spreadsheets.google.com/feeds',\n",
        "         'https://www.googleapis.com/auth/drive']\n",
        "credentials = ServiceAccountCredentials.from_json_keyfile_name('client_secret.json', scope)\n",
        "gc = gspread.authorize(credentials)"
      ],
      "metadata": {
        "id": "5r10rTcDCez_"
      },
      "execution_count": 10,
      "outputs": []
    },
    {
      "cell_type": "code",
      "source": [
        "spreadsheet_key = '1JHpwzpG5SeAhSsVLcZkX1rNg6-R2PGNRm40JuIeSywU'\n",
        "wks_name = 'Master'\n",
        "d2g.upload(MyData, spreadsheet_key, wks_name, credentials=credentials, row_names=True)"
      ],
      "metadata": {
        "id": "Td9copCVl7Yf",
        "colab": {
          "base_uri": "https://localhost:8080/"
        },
        "outputId": "907fe0d5-2ac7-4207-e1ef-ded2dff2aab8"
      },
      "execution_count": 11,
      "outputs": [
        {
          "output_type": "execute_result",
          "data": {
            "text/plain": [
              "<Worksheet 'Master' id:2060507442>"
            ]
          },
          "metadata": {},
          "execution_count": 11
        }
      ]
    },
    {
      "cell_type": "markdown",
      "source": [
        "[Please click here to view the google sheet](https://docs.google.com/spreadsheets/d/1JHpwzpG5SeAhSsVLcZkX1rNg6-R2PGNRm40JuIeSywU/edit?usp=sharing)"
      ],
      "metadata": {
        "id": "H1iFk74j1wfP"
      }
    },
    {
      "cell_type": "markdown",
      "source": [
        "Now the Google sheet can be used as a dynamic data source in multiple reporting and dashboarding tools.\n",
        "The next step in the Process is to use this data to create a Tableau report."
      ],
      "metadata": {
        "id": "2uwfGOp44Qr6"
      }
    }
  ]
}